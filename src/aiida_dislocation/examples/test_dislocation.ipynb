{
 "cells": [
  {
   "cell_type": "code",
   "execution_count": 28,
   "metadata": {},
   "outputs": [
    {
     "name": "stdout",
     "output_type": "stream",
     "text": [
      "The autoreload extension is already loaded. To reload it, use:\n",
      "  %reload_ext autoreload\n"
     ]
    },
    {
     "data": {
      "text/plain": [
       "Profile<uuid='155a05c5c8f7420aa49bbf9207908698' name='supercon'>"
      ]
     },
     "execution_count": 28,
     "metadata": {},
     "output_type": "execute_result"
    }
   ],
   "source": [
    "%load_ext autoreload\n",
    "%autoreload 2\n",
    "\n",
    "from aiida import orm, engine, load_profile\n",
    "from aiida.common import NotExistent\n",
    "\n",
    "import aiida_dislocation\n",
    "import importlib\n",
    "importlib.reload(aiida_dislocation.workflows.usf)\n",
    "from aiida_dislocation.workflows.usf import USFWorkChain\n",
    "\n",
    "from ase.io import read\n",
    "from ase.build import bulk\n",
    "from aiida.engine import run\n",
    "\n",
    "import logging\n",
    "\n",
    "\n",
    "load_profile()"
   ]
  },
  {
   "cell_type": "code",
   "execution_count": 21,
   "metadata": {},
   "outputs": [
    {
     "name": "stdout",
     "output_type": "stream",
     "text": [
      "Group 'test/workchains/USF/' already exists.\n"
     ]
    }
   ],
   "source": [
    "prepend_text = \"\"\"\n",
    "module load intel\n",
    "module load mkl\n",
    "module load impi\n",
    "module load fftw/3.3.10\n",
    "\"\"\"\n",
    "\n",
    "group_label = 'test/workchains/USF/'\n",
    "test_USF_group, created = orm.Group.collection.get_or_create(label=group_label)\n",
    "if created:\n",
    "    print(f\"Group '{group_label}' created.\")\n",
    "else:\n",
    "    print(f\"Group '{group_label}' already exists.\")\n",
    "\n",
    "\n",
    "computer = 'mn5'\n",
    "mn5_computer = orm.load_computer(computer)\n",
    "mn5_computer.set_workdir('/gpfs/scratch/ehpc14/uclo653525/aiida_workdir/test_aiida_dislocation')\n",
    "\n",
    "version = '730'\n",
    "pw_label = f'qe-{version}-pw'\n",
    "pw_code = orm.load_code(f'{pw_label}@{computer}')\n"
   ]
  },
  {
   "cell_type": "markdown",
   "metadata": {},
   "source": [
    "# TEST A1 -- Aluminium"
   ]
  },
  {
   "cell_type": "code",
   "execution_count": 12,
   "metadata": {},
   "outputs": [],
   "source": [
    "import yaml\n",
    "\n",
    "ase_atom = read('./structures/cif/Al-225-A1.cif', format='cif')\n",
    "structure = orm.StructureData(ase=ase_atom)\n",
    "\n",
    "pseudo_family = orm.load_group('PseudoDojo/0.5/PBE/SR/standard/upf')\n",
    "\n",
    "pseudos = pseudo_family.get_pseudos(structure=structure)\n",
    "\n",
    "cutoff_wfc, cutoff_rho = pseudo_family.get_recommended_cutoffs(\n",
    "    structure=structure,\n",
    "    unit='Ry'\n",
    ")\n",
    "\n",
    "kpoints = orm.KpointsData()\n",
    "kpoints.set_kpoints_mesh([12, 12, 12])\n",
    "\n",
    "settings = orm.Dict({\n",
    "    # 'cmdline': ['-npool', '2']\n",
    "})\n",
    "\n",
    "usf_overrides_yaml = open('./usf.yaml')\n",
    "usf_overrides = yaml.safe_load(usf_overrides_yaml)\n",
    "\n",
    "inputs = {}\n",
    "\n",
    "inputs['metadata'] = usf_overrides.get('metadata', {})\n",
    "inputs['structure'] = structure\n",
    "inputs['kpoints'] = kpoints\n",
    "inputs['pw'] = usf_overrides.get('pw', {})\n",
    "inputs['pw']['pseudos'] = pseudos\n",
    "inputs['pw']['code'] = pw_code\n",
    "inputs['pw']['parameters']['CONTROL']['disk_io'] = 'nowf'\n",
    "inputs['pw']['parameters']['SYSTEM']['degauss'] = 0.02\n",
    "inputs['pw']['parameters']['ELECTRONS']['conv_thr'] = 1e-5\n"
   ]
  },
  {
   "cell_type": "markdown",
   "metadata": {},
   "source": [
    "## {100} surface"
   ]
  },
  {
   "cell_type": "code",
   "execution_count": 13,
   "metadata": {},
   "outputs": [
    {
     "name": "stderr",
     "output_type": "stream",
     "text": [
      "04/28/2025 10:17:46 AM <158968> aiida.orm.nodes.process.workflow.workchain.WorkChainNode: [REPORT] [71643|USFWorkChain|validate_slipping_system]: FCC element crystal <space group #225, prototype Cu>. Usually, the gliding plane is 111.\n",
      "04/28/2025 10:17:46 AM <158968> aiida.orm.nodes.process.workflow.workchain.WorkChainNode: [REPORT] [71643|USFWorkChain|validate_slipping_system]: Now we are working on 100 gliding plane.\n",
      "04/28/2025 10:17:46 AM <158968> aiida.orm.nodes.process.workflow.workchain.WorkChainNode: [REPORT] [71643|USFWorkChain|validate_slipping_system]: Faulting is possible for 100 gliding plane.The stacking order is AB.Slipping direction: None. \n",
      "04/28/2025 10:17:47 AM <158968> aiida.orm.nodes.process.workflow.workchain.WorkChainNode: [REPORT] [71643|USFWorkChain|run_scf]: launching PwCalculation<71644> for Al unit cell geometry.\n",
      "04/28/2025 10:21:26 AM <158968> aiida.orm.nodes.process.workflow.workchain.WorkChainNode: [REPORT] [71643|USFWorkChain|inspect_scf]: SCF calculation<71644> finished\n",
      "04/28/2025 10:21:26 AM <158968> aiida.orm.nodes.process.workflow.workchain.WorkChainNode: [REPORT] [71643|USFWorkChain|run_USF]: Multiplicity of the faulted geometry: 8\n",
      "04/28/2025 10:21:26 AM <158968> aiida.orm.nodes.process.workflow.workchain.WorkChainNode: [REPORT] [71643|USFWorkChain|run_USF]: launching PwCalculation<71652> for USF geometry.\n",
      "04/28/2025 10:25:51 AM <158968> aiida.orm.nodes.process.workflow.workchain.WorkChainNode: [REPORT] [71643|USFWorkChain|inspect_USF]: SCF calculation<71652> for USF geometry finished\n",
      "04/28/2025 10:25:51 AM <158968> aiida.orm.nodes.process.workflow.workchain.WorkChainNode: [REPORT] [71643|USFWorkChain|results]: Energy difference per surface area: uuid: 3a96df45-7535-43ba-8436-3de47bf5ea7d (unstored) value: 110.44963489182699 J/m^2\n",
      "04/28/2025 10:25:51 AM <158968> aiida.orm.nodes.process.workflow.workchain.WorkChainNode: [REPORT] [71643|USFWorkChain|results]: Results\n",
      "04/28/2025 10:25:51 AM <158968> aiida.orm.nodes.process.workflow.workchain.WorkChainNode: [REPORT] [71643|USFWorkChain|on_terminated]: remote folders will not be cleaned\n"
     ]
    }
   ],
   "source": [
    "inputs['skip_uc'] = orm.Bool(False)\n",
    "inputs['n_layers'] =orm.Int(8)\n",
    "inputs['slipping_system'] = orm.List(['A1', '100'])\n",
    "\n",
    "logging.getLogger('aiida.transport.SshTransport').setLevel(logging.ERROR)\n",
    "logging.getLogger('aiida.scheduler.slurm').setLevel(logging.ERROR)\n",
    "\n",
    "test_node = run.get_node(USFWorkChain, **inputs)\n",
    "test_USF_group.add_nodes(test_node.node)"
   ]
  },
  {
   "cell_type": "markdown",
   "metadata": {},
   "source": [
    "## {110} surface"
   ]
  },
  {
   "cell_type": "code",
   "execution_count": 15,
   "metadata": {},
   "outputs": [
    {
     "name": "stderr",
     "output_type": "stream",
     "text": [
      "04/28/2025 10:40:12 AM <158968> aiida.orm.nodes.process.workflow.workchain.WorkChainNode: [REPORT] [71677|USFWorkChain|validate_slipping_system]: FCC element crystal <space group #225, prototype Cu>. Usually, the gliding plane is 111.\n",
      "04/28/2025 10:40:12 AM <158968> aiida.orm.nodes.process.workflow.workchain.WorkChainNode: [REPORT] [71677|USFWorkChain|validate_slipping_system]: Now we are working on 110 gliding plane.\n",
      "04/28/2025 10:40:12 AM <158968> aiida.orm.nodes.process.workflow.workchain.WorkChainNode: [REPORT] [71677|USFWorkChain|validate_slipping_system]: Faulting is possible for 110 gliding plane.The stacking order is AB. Slipping direction: 1/2[112]. \n",
      "04/28/2025 10:40:12 AM <158968> aiida.orm.nodes.process.workflow.workchain.WorkChainNode: [WARNING] You are skipping the unitcell calculation. Hopefully you know what you are doing!\n",
      "04/28/2025 10:40:12 AM <158968> aiida.orm.nodes.process.workflow.workchain.WorkChainNode: [REPORT] [71677|USFWorkChain|run_USF]: Multiplicity of the faulted geometry: 8\n",
      "04/28/2025 10:40:12 AM <158968> aiida.orm.nodes.process.workflow.workchain.WorkChainNode: [REPORT] [71677|USFWorkChain|run_USF]: launching PwCalculation<71680> for USF geometry.\n",
      "04/28/2025 10:41:57 AM <158968> aiida.orm.nodes.process.workflow.workchain.WorkChainNode: [REPORT] [71677|USFWorkChain|inspect_USF]: SCF calculation<71680> for USF geometry finished\n",
      "04/28/2025 10:41:57 AM <158968> aiida.orm.nodes.process.workflow.workchain.WorkChainNode: [REPORT] [71677|USFWorkChain|results]: Total energy of the faulted geometry: -474.61461166176 eV\n",
      "04/28/2025 10:41:57 AM <158968> aiida.orm.nodes.process.workflow.workchain.WorkChainNode: [REPORT] [71677|USFWorkChain|results]: Results\n",
      "04/28/2025 10:41:57 AM <158968> aiida.orm.nodes.process.workflow.workchain.WorkChainNode: [REPORT] [71677|USFWorkChain|on_terminated]: remote folders will not be cleaned\n"
     ]
    }
   ],
   "source": [
    "inputs['skip_uc'] = orm.Bool(True)\n",
    "inputs['n_layers'] =orm.Int(8)\n",
    "inputs['slipping_system'] = orm.List(['A1', '110'])\n",
    "\n",
    "logging.getLogger('aiida.transport.SshTransport') .setLevel(logging.ERROR)\n",
    "logging.getLogger('aiida.scheduler.slurm').setLevel(logging.ERROR)\n",
    "\n",
    "test_node = run.get_node(USFWorkChain, **inputs)\n",
    "test_USF_group.add_nodes(test_node.node)"
   ]
  },
  {
   "cell_type": "markdown",
   "metadata": {},
   "source": [
    "## {111} surface"
   ]
  },
  {
   "cell_type": "code",
   "execution_count": 7,
   "metadata": {},
   "outputs": [
    {
     "name": "stderr",
     "output_type": "stream",
     "text": [
      "04/28/2025 09:18:10 AM <85805> aiida.orm.nodes.process.workflow.workchain.WorkChainNode: [REPORT] [71584|USFWorkChain|validate_slipping_system]: We are doing FCC element crystal <space group #225, prototype Cu>. Usually, the gliding plane is 111.\n",
      "04/28/2025 09:18:10 AM <85805> aiida.orm.nodes.process.workflow.workchain.WorkChainNode: [REPORT] [71584|USFWorkChain|validate_slipping_system]: ABC stacking for {111} gliding plane. Faulting possible. slipping direction is along 1/2[110].\n",
      "04/28/2025 09:18:10 AM <85805> aiida.orm.nodes.process.workflow.workchain.WorkChainNode: [REPORT] [71584|USFWorkChain|run_scf]: launching PwCalculation<71585> for Al unit cell geometry.\n",
      "04/28/2025 09:21:02 AM <85805> aiida.orm.nodes.process.workflow.workchain.WorkChainNode: [REPORT] [71584|USFWorkChain|inspect_scf]: SCF calculation<71585> finished\n",
      "04/28/2025 09:21:02 AM <85805> aiida.orm.nodes.process.workflow.workchain.WorkChainNode: [REPORT] [71584|USFWorkChain|run_USF]: Multiplicity of the faulted geometry: 8\n",
      "04/28/2025 09:21:03 AM <85805> aiida.orm.nodes.process.workflow.workchain.WorkChainNode: [REPORT] [71584|USFWorkChain|run_USF]: launching PwCalculation<71593> for USF geometry.\n",
      "04/28/2025 09:24:39 AM <85805> aiida.orm.nodes.process.workflow.workchain.WorkChainNode: [REPORT] [71584|USFWorkChain|inspect_USF]: SCF calculation<71593> for USF geometry finished\n",
      "04/28/2025 09:24:40 AM <85805> aiida.orm.nodes.process.workflow.workchain.WorkChainNode: [REPORT] [71584|USFWorkChain|results]: Energy difference per surface area: uuid: 0d14f555-a8d1-4fc2-b72a-e8d4ee034bf3 (unstored) value: 5.001486018232243 J/m^2\n",
      "04/28/2025 09:24:40 AM <85805> aiida.orm.nodes.process.workflow.workchain.WorkChainNode: [REPORT] [71584|USFWorkChain|results]: Results\n",
      "04/28/2025 09:24:40 AM <85805> aiida.orm.nodes.process.workflow.workchain.WorkChainNode: [REPORT] [71584|USFWorkChain|on_terminated]: remote folders will not be cleaned\n"
     ]
    }
   ],
   "source": [
    "inputs['skip_uc'] = orm.Bool(False)\n",
    "inputs['n_layers'] =orm.Int(9)\n",
    "inputs['slipping_system'] = orm.List(['A1', '111', None])\n",
    "\n",
    "logging.getLogger('aiida.transport.SshTransport').setLevel(logging.ERROR)\n",
    "logging.getLogger('aiida.scheduler.slurm').setLevel(logging.ERROR)\n",
    "\n",
    "test_node = run.get_node(USFWorkChain, **inputs)\n",
    "test_USF_group.add_nodes(test_node.node)"
   ]
  },
  {
   "cell_type": "markdown",
   "metadata": {},
   "source": [
    "# TEST A2 -- Vanadium"
   ]
  },
  {
   "cell_type": "code",
   "execution_count": 26,
   "metadata": {},
   "outputs": [],
   "source": [
    "import yaml\n",
    "\n",
    "ase_atom = read('./structures/cif/V-227-A2.cif', format='cif')\n",
    "structure = orm.StructureData(ase=ase_atom)\n",
    "\n",
    "pseudo_family = orm.load_group('PseudoDojo/0.5/PBE/SR/standard/upf')\n",
    "\n",
    "pseudos = pseudo_family.get_pseudos(structure=structure)\n",
    "\n",
    "cutoff_wfc, cutoff_rho = pseudo_family.get_recommended_cutoffs(\n",
    "    structure=structure,\n",
    "    unit='Ry'\n",
    ")\n",
    "\n",
    "kpoints = orm.KpointsData()\n",
    "kpoints.set_kpoints_mesh([14, 14, 14])\n",
    "\n",
    "settings = orm.Dict({\n",
    "    # 'cmdline': ['-npool', '2']\n",
    "})\n",
    "\n",
    "usf_overrides_yaml = open('./usf.yaml')\n",
    "usf_overrides = yaml.safe_load(usf_overrides_yaml)\n",
    "\n",
    "inputs = {}\n",
    "\n",
    "inputs['metadata'] = usf_overrides.get('metadata', {})\n",
    "inputs['structure'] = structure\n",
    "inputs['kpoints'] = kpoints\n",
    "inputs['pw'] = usf_overrides.get('pw', {})\n",
    "inputs['pw']['pseudos'] = pseudos\n",
    "inputs['pw']['code'] = pw_code\n",
    "inputs['pw']['parameters']['CONTROL']['disk_io'] = 'nowf'\n",
    "inputs['pw']['parameters']['SYSTEM']['degauss'] = 0.01\n",
    "inputs['pw']['parameters']['ELECTRONS']['conv_thr'] = 1e-5\n",
    "\n"
   ]
  },
  {
   "cell_type": "markdown",
   "metadata": {},
   "source": [
    "## {100} surface"
   ]
  },
  {
   "cell_type": "code",
   "execution_count": null,
   "metadata": {},
   "outputs": [
    {
     "name": "stderr",
     "output_type": "stream",
     "text": [
      "04/28/2025 10:44:28 AM <158968> aiida.orm.nodes.process.workflow.workchain.WorkChainNode: [REPORT] [71705|USFWorkChain|validate_slipping_system]: FCC element crystal <space group #227, prototype V>. I don't know the usual gliding plane. \n",
      "04/28/2025 10:44:28 AM <158968> aiida.orm.nodes.process.workflow.workchain.WorkChainNode: [REPORT] [71705|USFWorkChain|validate_slipping_system]: Now we are working on 100 gliding plane.\n",
      "04/28/2025 10:44:28 AM <158968> aiida.orm.nodes.process.workflow.workchain.WorkChainNode: [REPORT] [71705|USFWorkChain|validate_slipping_system]: Faulting is possible for 100 gliding plane.The stacking order is AB. Slipping direction: 1/2[110]. \n",
      "04/28/2025 10:44:28 AM <158968> aiida.orm.nodes.process.workflow.workchain.WorkChainNode: [REPORT] [71705|USFWorkChain|run_scf]: launching PwCalculation<71706> for V unit cell geometry.\n",
      "04/28/2025 10:48:08 AM <158968> aiida.orm.nodes.process.workflow.workchain.WorkChainNode: [REPORT] [71705|USFWorkChain|inspect_scf]: SCF calculation<71706> finished\n",
      "04/28/2025 10:48:09 AM <158968> aiida.orm.nodes.process.workflow.workchain.WorkChainNode: [REPORT] [71705|USFWorkChain|run_USF]: Multiplicity of the faulted geometry: 8\n",
      "04/28/2025 10:48:09 AM <158968> aiida.orm.nodes.process.workflow.workchain.WorkChainNode: [REPORT] [71705|USFWorkChain|run_USF]: launching PwCalculation<71714> for USF geometry.\n",
      "04/28/2025 10:51:50 AM <158968> aiida.orm.nodes.process.workflow.workchain.WorkChainNode: [REPORT] [71705|USFWorkChain|inspect_USF]: SCF calculation<71714> for USF geometry finished\n",
      "04/28/2025 10:51:50 AM <158968> aiida.orm.nodes.process.workflow.workchain.WorkChainNode: [REPORT] [71705|USFWorkChain|results]: Energy difference per surface area: uuid: 0abe40ff-6fb0-4ac1-bc95-067ced192f61 (unstored) value: 23.665646561794187 J/m^2\n",
      "04/28/2025 10:51:50 AM <158968> aiida.orm.nodes.process.workflow.workchain.WorkChainNode: [REPORT] [71705|USFWorkChain|results]: Results\n",
      "04/28/2025 10:51:51 AM <158968> aiida.orm.nodes.process.workflow.workchain.WorkChainNode: [REPORT] [71705|USFWorkChain|on_terminated]: remote folders will not be cleaned\n"
     ]
    }
   ],
   "source": [
    "inputs['skip_uc'] = orm.Bool(False)\n",
    "inputs['n_layers'] =orm.Int(16)\n",
    "inputs['slipping_system'] = orm.List(['A2', '100'])\n",
    "\n",
    "logging.getLogger('aiida.transport.SshTransport') .setLevel(logging.ERROR)\n",
    "logging.getLogger('aiida.scheduler.slurm').setLevel(logging.ERROR)\n",
    "\n",
    "test_node = run.get_node(USFWorkChain, **inputs)\n",
    "test_USF_group.add_nodes(test_node.node)"
   ]
  },
  {
   "cell_type": "markdown",
   "metadata": {},
   "source": [
    "## {110} surface"
   ]
  },
  {
   "cell_type": "code",
   "execution_count": 27,
   "metadata": {},
   "outputs": [
    {
     "name": "stderr",
     "output_type": "stream",
     "text": [
      "04/28/2025 11:50:29 AM <158968> aiida.orm.nodes.process.workflow.workchain.WorkChainNode: [REPORT] [71789|USFWorkChain|validate_slipping_system]: FCC element crystal <space group #227, prototype V>. I don't know the usual gliding plane. \n",
      "04/28/2025 11:50:29 AM <158968> aiida.orm.nodes.process.workflow.workchain.WorkChainNode: [REPORT] [71789|USFWorkChain|validate_slipping_system]: Now we are working on 110 gliding plane.\n",
      "04/28/2025 11:50:29 AM <158968> aiida.orm.nodes.process.workflow.workchain.WorkChainNode: [REPORT] [71789|USFWorkChain|validate_slipping_system]: Faulting is possible for 110 gliding plane.The stacking order is AB. Slipping direction: 1/2[001]. \n",
      "04/28/2025 11:50:30 AM <158968> aiida.orm.nodes.process.workflow.workchain.WorkChainNode: [REPORT] [71789|USFWorkChain|run_scf]: launching PwCalculation<71790> for V unit cell geometry.\n",
      "04/28/2025 11:55:20 AM <158968> aiida.orm.nodes.process.workflow.workchain.WorkChainNode: [REPORT] [71789|USFWorkChain|inspect_scf]: SCF calculation<71790> finished\n",
      "04/28/2025 11:55:20 AM <158968> aiida.orm.nodes.process.workflow.workchain.WorkChainNode: [REPORT] [71789|USFWorkChain|run_USF]: Multiplicity of the faulted geometry: 8\n",
      "04/28/2025 11:55:20 AM <158968> aiida.orm.nodes.process.workflow.workchain.WorkChainNode: [REPORT] [71789|USFWorkChain|run_USF]: launching PwCalculation<71798> for USF geometry.\n",
      "04/28/2025 11:59:45 AM <158968> aiida.orm.nodes.process.workflow.workchain.WorkChainNode: [REPORT] [71789|USFWorkChain|inspect_USF]: SCF calculation<71798> for USF geometry finished\n",
      "04/28/2025 11:59:45 AM <158968> aiida.orm.nodes.process.workflow.workchain.WorkChainNode: [REPORT] [71789|USFWorkChain|results]: Energy difference per surface area: uuid: 948d5e94-6f0f-4a0f-b00e-0b3b61c5701f (unstored) value: 4.202665195212199 J/m^2\n",
      "04/28/2025 11:59:45 AM <158968> aiida.orm.nodes.process.workflow.workchain.WorkChainNode: [REPORT] [71789|USFWorkChain|results]: Results\n",
      "04/28/2025 11:59:45 AM <158968> aiida.orm.nodes.process.workflow.workchain.WorkChainNode: [REPORT] [71789|USFWorkChain|on_terminated]: remote folders will not be cleaned\n"
     ]
    }
   ],
   "source": [
    "inputs['skip_uc'] = orm.Bool(False)\n",
    "inputs['n_layers'] =orm.Int(8)\n",
    "inputs['slipping_system'] = orm.List(['A2', '110'])\n",
    "\n",
    "logging.getLogger('aiida.transport.SshTransport') .setLevel(logging.ERROR)\n",
    "logging.getLogger('aiida.scheduler.slurm').setLevel(logging.ERROR)\n",
    "\n",
    "test_node = run.get_node(USFWorkChain, **inputs)\n",
    "test_USF_group.add_nodes(test_node.node)"
   ]
  },
  {
   "cell_type": "markdown",
   "metadata": {},
   "source": [
    "# TEST HALF-HEUSLER"
   ]
  },
  {
   "cell_type": "code",
   "execution_count": 11,
   "metadata": {},
   "outputs": [],
   "source": [
    "\n",
    "import yaml\n",
    "\n",
    "ase_atom = read('./structures/cif/mpds-S1612207-NbCoSb-216-C1b.cif', format='cif')\n",
    "structure = orm.StructureData(ase=ase_atom)\n",
    "\n",
    "pseudo_family = orm.load_group('PseudoDojo/0.5/PBE/SR/standard/upf')\n",
    "\n",
    "pseudos = pseudo_family.get_pseudos(structure=structure)\n",
    "\n",
    "cutoff_wfc, cutoff_rho = pseudo_family.get_recommended_cutoffs(\n",
    "    structure=structure,\n",
    "    unit='Ry'\n",
    ")\n",
    "\n",
    "kpoints = orm.KpointsData()\n",
    "kpoints.set_kpoints_mesh([12, 12, 12])\n",
    "\n",
    "settings = orm.Dict({\n",
    "    # 'cmdline': ['-npool', '2']\n",
    "})\n",
    "\n",
    "usf_overrides_yaml = open('./usf.yaml')\n",
    "usf_overrides = yaml.safe_load(usf_overrides_yaml)\n",
    "\n",
    "inputs = {}\n",
    "\n",
    "inputs['metadata'] = usf_overrides.get('metadata', {})\n",
    "inputs['structure'] = structure\n",
    "inputs['kpoints'] = kpoints\n",
    "inputs['pw'] = usf_overrides.get('pw', {})\n",
    "inputs['pw']['pseudos'] = pseudos\n",
    "inputs['pw']['code'] = pw_code\n",
    "inputs['pw']['parameters']['CONTROL']['disk_io'] = 'minimal'\n",
    "inputs['pw']['parameters']['SYSTEM']['degauss'] = 0.01\n",
    "inputs['pw']['parameters']['ELECTRONS']['conv_thr'] = 1e-5\n",
    "\n"
   ]
  },
  {
   "cell_type": "markdown",
   "metadata": {},
   "source": [
    "## {100} surface"
   ]
  },
  {
   "cell_type": "code",
   "execution_count": 12,
   "metadata": {},
   "outputs": [
    {
     "name": "stderr",
     "output_type": "stream",
     "text": [
      "04/26/2025 12:11:00 PM <1225033> aiida.orm.nodes.process.workflow.workchain.WorkChainNode: [REPORT] [1137727|USFWorkChain|validate_slipping_system]: We are doing half-heusler-type structure, space group (216).\n",
      "04/26/2025 12:11:00 PM <1225033> aiida.orm.nodes.process.workflow.workchain.WorkChainNode: [REPORT] [1137727|USFWorkChain|validate_slipping_system]: AB stacking for {110} gliding plane. Faulting possible.slipping direction is along 1/2[-111].\n",
      "04/26/2025 12:11:00 PM <1225033> aiida.orm.nodes.process.workflow.workchain.WorkChainNode: [WARNING] You are skipping the unitcell calculation.Hopefully you know what you are doing!\n",
      "04/26/2025 12:11:00 PM <1225033> aiida.orm.nodes.process.workflow.workchain.WorkChainNode: [REPORT] [1137727|USFWorkChain|run_USF]: Multiplicity of the faulted geometry: uuid: 5bc1e3a8-792c-4a50-94e7-53ed01b2253d (unstored) value: 8.0\n",
      "04/26/2025 12:11:01 PM <1225033> aiida.orm.nodes.process.workflow.workchain.WorkChainNode: [REPORT] [1137727|USFWorkChain|run_USF]: launching PwCalculation<1137730> for USF geometry.\n",
      "04/26/2025 12:24:01 PM <1225033> aiida.parser.PwParser: [WARNING] key 'symmetries' is not present in raw output dictionary\n",
      "04/26/2025 12:24:01 PM <1225033> aiida.parser.PwParser: [WARNING] \"the scf_accuracy array was parsed but the scf_iterations was not.\n",
      "04/26/2025 12:24:01 PM <1225033> aiida.parser.PwParser: [ERROR] ERROR_OUTPUT_STDOUT_INCOMPLETE\n",
      "04/26/2025 12:24:01 PM <1225033> aiida.parser.PwParser: [ERROR] Both the stdout and XML output files could not be read or parsed.\n",
      "04/26/2025 12:24:01 PM <1225033> aiida.orm.nodes.process.calculation.calcjob.CalcJobNode: [WARNING] output parser returned exit code<305>: Both the stdout and XML output files could not be read or parsed.\n",
      "04/26/2025 12:24:02 PM <1225033> aiida.orm.nodes.process.workflow.workchain.WorkChainNode: [REPORT] [1137727|USFWorkChain|inspect_USF]: USF PwCalculation failed with exit status 305\n",
      "04/26/2025 12:24:02 PM <1225033> aiida.orm.nodes.process.workflow.workchain.WorkChainNode: [REPORT] [1137727|USFWorkChain|on_terminated]: remote folders will not be cleaned\n"
     ]
    }
   ],
   "source": [
    "inputs['skip_uc'] = orm.Bool(True)\n",
    "inputs['n_layers'] =orm.Int(8)\n",
    "inputs['slipping_system'] = orm.List(['C1b', '110', None])\n",
    "\n",
    "logging.getLogger('aiida.transport.SshTransport').setLevel(logging.ERROR)\n",
    "logging.getLogger('aiida.scheduler.slurm').setLevel(logging.ERROR)\n",
    "\n",
    "test_node = run.get_node(USFWorkChain, **inputs)"
   ]
  },
  {
   "cell_type": "code",
   "execution_count": null,
   "metadata": {},
   "outputs": [],
   "source": []
  }
 ],
 "metadata": {
  "kernelspec": {
   "display_name": "aiida-240",
   "language": "python",
   "name": "python3"
  },
  "language_info": {
   "codemirror_mode": {
    "name": "ipython",
    "version": 3
   },
   "file_extension": ".py",
   "mimetype": "text/x-python",
   "name": "python",
   "nbconvert_exporter": "python",
   "pygments_lexer": "ipython3",
   "version": "3.11.0"
  }
 },
 "nbformat": 4,
 "nbformat_minor": 2
}
