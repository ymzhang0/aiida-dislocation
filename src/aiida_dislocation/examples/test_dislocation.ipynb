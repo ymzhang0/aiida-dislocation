{
 "cells": [
  {
   "cell_type": "markdown",
   "metadata": {},
   "source": [
    "### Loading environment"
   ]
  },
  {
   "cell_type": "code",
   "execution_count": 1,
   "metadata": {},
   "outputs": [
    {
     "data": {
      "text/plain": [
       "Profile<uuid='155a05c5c8f7420aa49bbf9207908698' name='supercon'>"
      ]
     },
     "execution_count": 1,
     "metadata": {},
     "output_type": "execute_result"
    }
   ],
   "source": [
    "%load_ext autoreload\n",
    "%autoreload 2\n",
    "\n",
    "from aiida import orm, engine, load_profile\n",
    "from aiida.common import NotExistent\n",
    "\n",
    "# import aiida_dislocation\n",
    "\n",
    "# import importlib\n",
    "# importlib.reload(aiida_dislocation.workflows.usf)\n",
    "from aiida_dislocation.workflows.usf import USFWorkChain\n",
    "\n",
    "from ase.io import read\n",
    "from ase.build import bulk\n",
    "from aiida.engine import run\n",
    "\n",
    "import yaml\n",
    "\n",
    "import logging\n",
    "\n",
    "\n",
    "load_profile()"
   ]
  },
  {
   "cell_type": "code",
   "execution_count": 2,
   "metadata": {},
   "outputs": [
    {
     "name": "stdout",
     "output_type": "stream",
     "text": [
      "Group 'test/workchains/USF/' already exists.\n"
     ]
    }
   ],
   "source": [
    "prepend_text = \"\"\"\n",
    "module load intel\n",
    "module load mkl\n",
    "module load impi\n",
    "module load fftw/3.3.10\n",
    "\"\"\"\n",
    "\n",
    "group_label = 'test/workchains/USF/'\n",
    "test_USF_group, created = orm.Group.collection.get_or_create(label=group_label)\n",
    "if created:\n",
    "    print(f\"Group '{group_label}' created.\")\n",
    "else:\n",
    "    print(f\"Group '{group_label}' already exists.\")\n",
    "\n",
    "\n",
    "computer = 'mn5'\n",
    "mn5_computer = orm.load_computer(computer)\n",
    "mn5_computer.set_workdir('/gpfs/scratch/ehpc14/uclo653525/aiida_workdir/test_aiida_dislocation')\n",
    "\n",
    "version = '730'\n",
    "pw_label = f'qe-{version}-pw'\n",
    "pw_code = orm.load_code(f'{pw_label}@{computer}')\n"
   ]
  },
  {
   "cell_type": "markdown",
   "metadata": {},
   "source": [
    "## TEST A1 -- Aluminium"
   ]
  },
  {
   "cell_type": "code",
   "execution_count": 3,
   "metadata": {},
   "outputs": [],
   "source": [
    "import yaml\n",
    "\n",
    "ase_atom = read('./structures/cif/Al-225-A1.cif', format='cif')\n",
    "structure = orm.StructureData(ase=ase_atom)\n",
    "\n",
    "pseudo_family = orm.load_group('PseudoDojo/0.5/PBE/SR/standard/upf')\n",
    "\n",
    "pseudos = pseudo_family.get_pseudos(structure=structure)\n",
    "\n",
    "cutoff_wfc, cutoff_rho = pseudo_family.get_recommended_cutoffs(\n",
    "    structure=structure,\n",
    "    unit='Ry'\n",
    ")\n",
    "\n",
    "kpoints = orm.KpointsData()\n",
    "kpoints.set_kpoints_mesh([12, 12, 12])\n",
    "\n",
    "settings = orm.Dict({\n",
    "    # 'cmdline': ['-npool', '2']\n",
    "})\n",
    "\n",
    "usf_overrides_yaml = open('./usf.yaml')\n",
    "usf_overrides = yaml.safe_load(usf_overrides_yaml)\n",
    "\n",
    "inputs = {}\n",
    "\n",
    "inputs['metadata'] = usf_overrides.get('metadata', {})\n",
    "inputs['structure'] = structure\n",
    "inputs['kpoints'] = kpoints\n",
    "inputs['pw'] = usf_overrides.get('pw', {})\n",
    "inputs['pw']['pseudos'] = pseudos\n",
    "inputs['pw']['code'] = pw_code\n",
    "# inputs['pw']['parameters']['CONTROL']['disk_io'] = 'nowf'\n",
    "inputs['pw']['parameters']['SYSTEM']['degauss'] = 0.02\n",
    "inputs['pw']['parameters']['ELECTRONS']['conv_thr'] = 1e-5\n"
   ]
  },
  {
   "cell_type": "markdown",
   "metadata": {},
   "source": [
    "### {100} surface"
   ]
  },
  {
   "cell_type": "code",
   "execution_count": 9,
   "metadata": {},
   "outputs": [
    {
     "name": "stderr",
     "output_type": "stream",
     "text": [
      "05/15/2025 10:48:30 AM <420539> aiida.orm.nodes.process.workflow.workchain.WorkChainNode: [REPORT] [140158|USFWorkChain|validate_slipping_system]: FCC element crystal <space group #225, prototype Cu>. Usually, the gliding plane is 111.\n",
      "05/15/2025 10:48:30 AM <420539> aiida.orm.nodes.process.workflow.workchain.WorkChainNode: [REPORT] [140158|USFWorkChain|validate_slipping_system]: Now we are working on 100 gliding plane.\n",
      "05/15/2025 10:48:30 AM <420539> aiida.orm.nodes.process.workflow.workchain.WorkChainNode: [REPORT] [140158|USFWorkChain|validate_slipping_system]: Faulting is possible for 100 gliding plane.The stacking order is AB. \n",
      "05/15/2025 10:48:30 AM <420539> aiida.orm.nodes.process.workflow.workchain.WorkChainNode: [REPORT] [140158|USFWorkChain|validate_slipping_system]: Slipping direction is manually specified: [0.5, 0.5]. \n",
      "05/15/2025 10:48:30 AM <420539> aiida.workflow.dislocation: [WARNING] kpoints mesh is not compatible with supercell dimensions. Rouding the kpoints mesh.Might cause energy difference.\n",
      "05/15/2025 10:48:30 AM <420539> aiida.orm.nodes.process.workflow.workchain.WorkChainNode: [REPORT] [140158|USFWorkChain|should_run_uc]: We firstly calculate the total energy of the unit cell. \n",
      "05/15/2025 10:48:30 AM <420539> aiida.orm.nodes.process.workflow.workchain.WorkChainNode: [REPORT] [140158|USFWorkChain|run_scf]: launching PwCalculation<140163> for Al unit cell geometry.\n",
      "05/15/2025 10:50:14 AM <420539> aiida.orm.nodes.process.workflow.workchain.WorkChainNode: [REPORT] [140158|USFWorkChain|inspect_scf]: Totel energy of unit cell: -4.635606033791944 Ry\n",
      "05/15/2025 10:50:14 AM <420539> aiida.orm.nodes.process.workflow.workchain.WorkChainNode: [REPORT] [140158|USFWorkChain|inspect_scf]: SCF calculation<140163> finished\n",
      "05/15/2025 10:50:14 AM <420539> aiida.orm.nodes.process.workflow.workchain.WorkChainNode: [REPORT] [140158|USFWorkChain|run_USF]: launching PwCalculation<140169> for USF geometry.\n",
      "05/15/2025 10:52:31 AM <420539> aiida.orm.nodes.process.workflow.workchain.WorkChainNode: [REPORT] [140158|USFWorkChain|inspect_USF]: SCF calculation<140169> for USF geometry finished\n",
      "05/15/2025 10:52:31 AM <420539> aiida.orm.nodes.process.workflow.workchain.WorkChainNode: [REPORT] [140158|USFWorkChain|should_run_surface_energy]: We secondly calculate the surface energy of the faulted geometry. \n",
      "05/15/2025 10:52:31 AM <420539> aiida.orm.nodes.process.workflow.workchain.WorkChainNode: [REPORT] [140158|USFWorkChain|run_surface_energy]: launching PwCalculation<140175> for surface energy calculation.\n",
      "05/15/2025 10:54:15 AM <420539> aiida.orm.nodes.process.workflow.workchain.WorkChainNode: [REPORT] [140158|USFWorkChain|results]: Unstable faulted surface energy: 4.058879013014631 J/m^2\n",
      "05/15/2025 10:54:15 AM <420539> aiida.orm.nodes.process.workflow.workchain.WorkChainNode: [REPORT] [140158|USFWorkChain|results]: Surface energy: -3.95678751947755 J/m^2\n",
      "05/15/2025 10:54:15 AM <420539> aiida.orm.nodes.process.workflow.workchain.WorkChainNode: [REPORT] [140158|USFWorkChain|results]: Rice ratio: -1.025801611290606\n",
      "05/15/2025 10:54:15 AM <420539> aiida.orm.nodes.process.workflow.workchain.WorkChainNode: [REPORT] [140158|USFWorkChain|results]: Results\n",
      "05/15/2025 10:54:15 AM <420539> aiida.orm.nodes.process.workflow.workchain.WorkChainNode: [REPORT] [140158|USFWorkChain|on_terminated]: remote folders will not be cleaned\n"
     ]
    }
   ],
   "source": [
    "inputs['skip_uc'] = orm.Bool(False)\n",
    "inputs['do_surface_energy'] = orm.Bool(True)\n",
    "inputs['n_layers'] =orm.Int(8)\n",
    "inputs['slipping_system'] = orm.List(['A1', '100', [0.5, 0.5]])\n",
    "inputs['clean_workdir'] = orm.Bool(False)\n",
    "logging.getLogger('aiida.transport.SshTransport').setLevel(logging.ERROR)\n",
    "logging.getLogger('aiida.scheduler.slurm').setLevel(logging.ERROR)\n",
    "\n",
    "test_node = run.get_node(USFWorkChain, **inputs)\n",
    "test_USF_group.add_nodes(test_node.node)\n",
    "\n",
    "extras = {\n",
    "    'kpoints': kpoints.get_kpoints_mesh()[0],\n",
    "    'degauss': inputs['pw']['parameters']['SYSTEM']['degauss'],\n",
    "    'formula': inputs['structure'].get_formula(),\n",
    "    'structure_type': inputs['slipping_system'][0],\n",
    "    'gliding_plane': inputs['slipping_system'][1],\n",
    "    'slipping_direction': inputs['slipping_system'][2]\n",
    "}\n",
    "\n",
    "# wc = engine.submit(USFWorkChain, **inputs)\n",
    "# test_USF_group.add_nodes(wc)\n",
    "# wc.base.extras.set_many(extras=extras)\n"
   ]
  },
  {
   "cell_type": "markdown",
   "metadata": {},
   "source": [
    "### {110} surface"
   ]
  },
  {
   "cell_type": "code",
   "execution_count": 4,
   "metadata": {},
   "outputs": [
    {
     "name": "stderr",
     "output_type": "stream",
     "text": [
      "05/15/2025 12:02:06 PM <643100> aiida.orm.nodes.process.workflow.workchain.WorkChainNode: [REPORT] [140324|USFWorkChain|validate_slipping_system]: FCC element crystal <space group #225, prototype Cu>. Usually, the gliding plane is 111.\n",
      "05/15/2025 12:02:06 PM <643100> aiida.orm.nodes.process.workflow.workchain.WorkChainNode: [REPORT] [140324|USFWorkChain|validate_slipping_system]: Now we are working on 110 gliding plane.\n",
      "05/15/2025 12:02:06 PM <643100> aiida.orm.nodes.process.workflow.workchain.WorkChainNode: [REPORT] [140324|USFWorkChain|validate_slipping_system]: Faulting is possible for 110 gliding plane.The stacking order is AB. \n",
      "05/15/2025 12:02:06 PM <643100> aiida.orm.nodes.process.workflow.workchain.WorkChainNode: [REPORT] [140324|USFWorkChain|validate_slipping_system]: Slipping direction is manually specified: [0.5, 0.5]. \n",
      "05/15/2025 12:02:06 PM <643100> aiida.workflow.dislocation: [WARNING] kpoints mesh is not compatible with supercell dimensions. Rouding the kpoints mesh.Might cause energy difference.\n",
      "05/15/2025 12:02:06 PM <643100> aiida.orm.nodes.process.workflow.workchain.WorkChainNode: [REPORT] [140324|USFWorkChain|should_run_uc]: We firstly calculate the total energy of the unit cell. \n",
      "05/15/2025 12:02:06 PM <643100> aiida.orm.nodes.process.workflow.workchain.WorkChainNode: [REPORT] [140324|USFWorkChain|run_scf]: launching PwCalculation<140329> for Al unit cell geometry.\n",
      "05/15/2025 12:03:50 PM <643100> aiida.orm.nodes.process.workflow.workchain.WorkChainNode: [REPORT] [140324|USFWorkChain|inspect_scf]: Totel energy of unit cell: -4.63560611379191 Ry\n",
      "05/15/2025 12:03:50 PM <643100> aiida.orm.nodes.process.workflow.workchain.WorkChainNode: [REPORT] [140324|USFWorkChain|inspect_scf]: SCF calculation<140329> finished\n",
      "05/15/2025 12:03:50 PM <643100> aiida.orm.nodes.process.workflow.workchain.WorkChainNode: [REPORT] [140324|USFWorkChain|run_USF]: launching PwCalculation<140335> for USF geometry.\n",
      "05/15/2025 12:05:34 PM <643100> aiida.orm.nodes.process.workflow.workchain.WorkChainNode: [REPORT] [140324|USFWorkChain|inspect_USF]: SCF calculation<140335> for USF geometry finished\n",
      "05/15/2025 12:05:34 PM <643100> aiida.orm.nodes.process.workflow.workchain.WorkChainNode: [REPORT] [140324|USFWorkChain|should_run_surface_energy]: We secondly calculate the surface energy of the faulted geometry. \n",
      "05/15/2025 12:05:34 PM <643100> aiida.orm.nodes.process.workflow.workchain.WorkChainNode: [REPORT] [140324|USFWorkChain|run_surface_energy]: launching PwCalculation<140341> for surface energy calculation.\n",
      "05/15/2025 12:07:18 PM <643100> aiida.orm.nodes.process.workflow.workchain.WorkChainNode: [REPORT] [140324|USFWorkChain|results]: Unstable faulted surface energy: 21.055307351006647 J/m^2\n",
      "05/15/2025 12:07:18 PM <643100> aiida.orm.nodes.process.workflow.workchain.WorkChainNode: [REPORT] [140324|USFWorkChain|results]: Surface energy: -4.0827659416865005 J/m^2\n",
      "05/15/2025 12:07:18 PM <643100> aiida.orm.nodes.process.workflow.workchain.WorkChainNode: [REPORT] [140324|USFWorkChain|results]: Rice ratio: -5.1571183976099215\n",
      "05/15/2025 12:07:18 PM <643100> aiida.orm.nodes.process.workflow.workchain.WorkChainNode: [REPORT] [140324|USFWorkChain|results]: Results\n",
      "05/15/2025 12:07:18 PM <643100> aiida.orm.nodes.process.workflow.workchain.WorkChainNode: [REPORT] [140324|USFWorkChain|on_terminated]: remote folders will not be cleaned\n"
     ]
    }
   ],
   "source": [
    "inputs['skip_uc'] = orm.Bool(False)\n",
    "inputs['n_layers'] =orm.Int(8)\n",
    "inputs['do_surface_energy'] = orm.Bool(True)\n",
    "inputs['slipping_system'] = orm.List(['A1', '110', [0.5, 0.5]])\n",
    "\n",
    "logging.getLogger('aiida.transport.SshTransport') .setLevel(logging.ERROR)\n",
    "logging.getLogger('aiida.scheduler.slurm').setLevel(logging.ERROR)\n",
    "\n",
    "test_node = run.get_node(USFWorkChain, **inputs)\n",
    "test_USF_group.add_nodes(test_node.node)"
   ]
  },
  {
   "cell_type": "markdown",
   "metadata": {},
   "source": [
    "### {111} surface"
   ]
  },
  {
   "cell_type": "code",
   "execution_count": 5,
   "metadata": {},
   "outputs": [
    {
     "name": "stderr",
     "output_type": "stream",
     "text": [
      "05/15/2025 11:38:39 AM <542299> aiida.orm.nodes.process.workflow.workchain.WorkChainNode: [REPORT] [140274|USFWorkChain|validate_slipping_system]: FCC element crystal <space group #225, prototype Cu>. Usually, the gliding plane is 111.\n",
      "05/15/2025 11:38:39 AM <542299> aiida.orm.nodes.process.workflow.workchain.WorkChainNode: [REPORT] [140274|USFWorkChain|validate_slipping_system]: Now we are working on 111 gliding plane.\n",
      "05/15/2025 11:38:39 AM <542299> aiida.orm.nodes.process.workflow.workchain.WorkChainNode: [REPORT] [140274|USFWorkChain|validate_slipping_system]: Faulting is possible for 111 gliding plane.The stacking order is ABC. \n",
      "05/15/2025 11:38:39 AM <542299> aiida.orm.nodes.process.workflow.workchain.WorkChainNode: [REPORT] [140274|USFWorkChain|validate_slipping_system]: Slipping direction is manually specified: [0.5, 0]. \n",
      "05/15/2025 11:38:39 AM <542299> aiida.workflow.dislocation: [WARNING] Supercell is not integer multiple of unit cell. Ceiling the kpoints mesh.Might cause energy difference.\n",
      "05/15/2025 11:38:40 AM <542299> aiida.orm.nodes.process.workflow.workchain.WorkChainNode: [REPORT] [140274|USFWorkChain|should_run_uc]: We firstly calculate the total energy of the unit cell. \n",
      "05/15/2025 11:38:40 AM <542299> aiida.orm.nodes.process.workflow.workchain.WorkChainNode: [REPORT] [140274|USFWorkChain|run_scf]: launching PwCalculation<140280> for Al unit cell geometry.\n",
      "05/15/2025 11:41:12 AM <542299> aiida.orm.nodes.process.workflow.workchain.WorkChainNode: [REPORT] [140274|USFWorkChain|inspect_scf]: Totel energy of unit cell: -4.635605993791923 Ry\n",
      "05/15/2025 11:41:12 AM <542299> aiida.orm.nodes.process.workflow.workchain.WorkChainNode: [REPORT] [140274|USFWorkChain|inspect_scf]: SCF calculation<140280> finished\n",
      "05/15/2025 11:41:13 AM <542299> aiida.orm.nodes.process.workflow.workchain.WorkChainNode: [REPORT] [140274|USFWorkChain|run_USF]: launching PwCalculation<140286> for USF geometry.\n",
      "05/15/2025 11:46:28 AM <542299> aiida.orm.nodes.process.workflow.workchain.WorkChainNode: [REPORT] [140274|USFWorkChain|inspect_USF]: SCF calculation<140286> for USF geometry finished\n",
      "05/15/2025 11:46:28 AM <542299> aiida.orm.nodes.process.workflow.workchain.WorkChainNode: [REPORT] [140274|USFWorkChain|should_run_surface_energy]: We secondly calculate the surface energy of the faulted geometry. \n",
      "05/15/2025 11:46:28 AM <542299> aiida.orm.nodes.process.workflow.workchain.WorkChainNode: [REPORT] [140274|USFWorkChain|run_surface_energy]: launching PwCalculation<140292> for surface energy calculation.\n",
      "05/15/2025 11:49:45 AM <542299> aiida.orm.nodes.process.workflow.workchain.WorkChainNode: [REPORT] [140274|USFWorkChain|results]: Unstable faulted surface energy: 0.6233605617806923 J/m^2\n",
      "05/15/2025 11:49:45 AM <542299> aiida.orm.nodes.process.workflow.workchain.WorkChainNode: [REPORT] [140274|USFWorkChain|results]: Surface energy: -8.693824589324588 J/m^2\n",
      "05/15/2025 11:49:45 AM <542299> aiida.orm.nodes.process.workflow.workchain.WorkChainNode: [REPORT] [140274|USFWorkChain|results]: Rice ratio: -0.07170153427596591\n",
      "05/15/2025 11:49:45 AM <542299> aiida.orm.nodes.process.workflow.workchain.WorkChainNode: [REPORT] [140274|USFWorkChain|results]: Results\n",
      "05/15/2025 11:49:45 AM <542299> aiida.orm.nodes.process.workflow.workchain.WorkChainNode: [REPORT] [140274|USFWorkChain|on_terminated]: remote folders will not be cleaned\n"
     ]
    }
   ],
   "source": [
    "inputs['skip_uc'] = orm.Bool(False)\n",
    "inputs['n_layers'] =orm.Int(9)\n",
    "inputs['do_surface_energy'] = orm.Bool(True)\n",
    "inputs['slipping_system'] = orm.List(['A1', '111', [1/2, 0]])\n",
    "\n",
    "logging.getLogger('aiida.transport.SshTransport').setLevel(logging.ERROR)\n",
    "logging.getLogger('aiida.scheduler.slurm').setLevel(logging.ERROR)\n",
    "\n",
    "test_node = run.get_node(USFWorkChain, **inputs)\n",
    "test_USF_group.add_nodes(test_node.node)"
   ]
  },
  {
   "cell_type": "markdown",
   "metadata": {},
   "source": [
    "## TEST A1 -- Copper"
   ]
  },
  {
   "cell_type": "code",
   "execution_count": 8,
   "metadata": {},
   "outputs": [],
   "source": [
    "import yaml\n",
    "\n",
    "ase_atom = read('./structures/cif/Cu-225-A1.cif', format='cif')\n",
    "structure = orm.StructureData(ase=ase_atom)\n",
    "\n",
    "pseudo_family = orm.load_group('PseudoDojo/0.5/PBE/SR/standard/upf')\n",
    "\n",
    "pseudos = pseudo_family.get_pseudos(structure=structure)\n",
    "\n",
    "cutoff_wfc, cutoff_rho = pseudo_family.get_recommended_cutoffs(\n",
    "    structure=structure,\n",
    "    unit='Ry'\n",
    ")\n",
    "\n",
    "kpoints = orm.KpointsData()\n",
    "kpoints.set_kpoints_mesh([12, 12, 12])\n",
    "\n",
    "settings = orm.Dict({\n",
    "    # 'cmdline': ['-npool', '2']\n",
    "})\n",
    "\n",
    "usf_overrides_yaml = open('./usf.yaml')\n",
    "usf_overrides = yaml.safe_load(usf_overrides_yaml)\n",
    "\n",
    "inputs = {}\n",
    "\n",
    "inputs['metadata'] = usf_overrides.get('metadata', {})\n",
    "inputs['structure'] = structure\n",
    "inputs['kpoints'] = kpoints\n",
    "inputs['pw'] = usf_overrides.get('pw', {})\n",
    "inputs['pw']['pseudos'] = pseudos\n",
    "inputs['pw']['code'] = pw_code\n",
    "# inputs['pw']['parameters']['CONTROL']['disk_io'] = 'nowf'\n",
    "inputs['pw']['parameters']['SYSTEM']['degauss'] = 0.02\n",
    "inputs['pw']['parameters']['ELECTRONS']['conv_thr'] = 1e-5\n"
   ]
  },
  {
   "cell_type": "markdown",
   "metadata": {},
   "source": [
    "### {100} surface"
   ]
  },
  {
   "cell_type": "code",
   "execution_count": 11,
   "metadata": {},
   "outputs": [
    {
     "name": "stderr",
     "output_type": "stream",
     "text": [
      "05/15/2025 03:57:24 PM <1288291> aiida.orm.nodes.process.workflow.workchain.WorkChainNode: [REPORT] [140489|USFWorkChain|validate_slipping_system]: FCC element crystal <space group #225, prototype Cu>. Usually, the gliding plane is 111.\n",
      "05/15/2025 03:57:24 PM <1288291> aiida.orm.nodes.process.workflow.workchain.WorkChainNode: [REPORT] [140489|USFWorkChain|validate_slipping_system]: Now we are working on 100 gliding plane.\n",
      "05/15/2025 03:57:24 PM <1288291> aiida.orm.nodes.process.workflow.workchain.WorkChainNode: [REPORT] [140489|USFWorkChain|validate_slipping_system]: Faulting is possible for 100 gliding plane.The stacking order is AB. \n",
      "05/15/2025 03:57:24 PM <1288291> aiida.orm.nodes.process.workflow.workchain.WorkChainNode: [REPORT] [140489|USFWorkChain|validate_slipping_system]: Slipping direction is manually specified: [0.5, 0.0]. \n",
      "05/15/2025 03:57:24 PM <1288291> aiida.workflow.dislocation: [WARNING] kpoints mesh is not compatible with supercell dimensions. Rouding the kpoints mesh.Might cause energy difference.\n",
      "05/15/2025 03:57:25 PM <1288291> aiida.orm.nodes.process.workflow.workchain.WorkChainNode: [REPORT] [140489|USFWorkChain|should_run_uc]: We firstly calculate the total energy of the unit cell. \n",
      "05/15/2025 03:57:25 PM <1288291> aiida.orm.nodes.process.workflow.workchain.WorkChainNode: [REPORT] [140489|USFWorkChain|run_scf]: launching PwCalculation<140494> for Cu unit cell geometry.\n",
      "05/15/2025 04:00:19 PM <1288291> aiida.orm.nodes.process.workflow.workchain.WorkChainNode: [REPORT] [140489|USFWorkChain|inspect_scf]: Totel energy of unit cell: -379.2127692941051 Ry\n",
      "05/15/2025 04:00:19 PM <1288291> aiida.orm.nodes.process.workflow.workchain.WorkChainNode: [REPORT] [140489|USFWorkChain|inspect_scf]: SCF calculation<140494> finished\n",
      "05/15/2025 04:00:19 PM <1288291> aiida.orm.nodes.process.workflow.workchain.WorkChainNode: [REPORT] [140489|USFWorkChain|run_USF]: launching PwCalculation<140500> for USF geometry.\n",
      "05/15/2025 04:04:02 PM <1288291> aiida.orm.nodes.process.workflow.workchain.WorkChainNode: [REPORT] [140489|USFWorkChain|inspect_USF]: SCF calculation<140500> for USF geometry finished\n",
      "05/15/2025 04:04:02 PM <1288291> aiida.orm.nodes.process.workflow.workchain.WorkChainNode: [REPORT] [140489|USFWorkChain|should_run_surface_energy]: We secondly calculate the surface energy of the faulted geometry. \n",
      "05/15/2025 04:04:02 PM <1288291> aiida.orm.nodes.process.workflow.workchain.WorkChainNode: [REPORT] [140489|USFWorkChain|run_surface_energy]: launching PwCalculation<140506> for surface energy calculation.\n",
      "05/15/2025 04:06:10 PM <1288291> aiida.orm.nodes.process.workflow.workchain.WorkChainNode: [REPORT] [140489|USFWorkChain|results]: Unstable faulted surface energy: 1.8350077243105511 J/m^2\n",
      "05/15/2025 04:06:10 PM <1288291> aiida.orm.nodes.process.workflow.workchain.WorkChainNode: [REPORT] [140489|USFWorkChain|results]: Surface energy: -5.018286215948244 J/m^2\n",
      "05/15/2025 04:06:10 PM <1288291> aiida.orm.nodes.process.workflow.workchain.WorkChainNode: [REPORT] [140489|USFWorkChain|results]: Rice ratio: -0.3656642218769525\n",
      "05/15/2025 04:06:10 PM <1288291> aiida.orm.nodes.process.workflow.workchain.WorkChainNode: [REPORT] [140489|USFWorkChain|results]: Results\n",
      "05/15/2025 04:06:10 PM <1288291> aiida.orm.nodes.process.workflow.workchain.WorkChainNode: [REPORT] [140489|USFWorkChain|on_terminated]: remote folders will not be cleaned\n"
     ]
    }
   ],
   "source": [
    "inputs['skip_uc'] = orm.Bool(False)\n",
    "inputs['do_surface_energy'] = orm.Bool(True)\n",
    "inputs['n_layers'] =orm.Int(8)\n",
    "inputs['slipping_system'] = orm.List(['A1', '100', [0.5, 0.0]])\n",
    "inputs['clean_workdir'] = orm.Bool(False)\n",
    "logging.getLogger('aiida.transport.SshTransport').setLevel(logging.ERROR)\n",
    "logging.getLogger('aiida.scheduler.slurm').setLevel(logging.ERROR)\n",
    "\n",
    "test_node = run.get_node(USFWorkChain, **inputs)\n",
    "test_USF_group.add_nodes(test_node.node)\n",
    "\n",
    "extras = {\n",
    "    'kpoints': kpoints.get_kpoints_mesh()[0],\n",
    "    'degauss': inputs['pw']['parameters']['SYSTEM']['degauss'],\n",
    "    'formula': inputs['structure'].get_formula(),\n",
    "    'structure_type': inputs['slipping_system'][0],\n",
    "    'gliding_plane': inputs['slipping_system'][1],\n",
    "    'slipping_direction': inputs['slipping_system'][2]\n",
    "}\n",
    "\n",
    "# wc = engine.submit(USFWorkChain, **inputs)\n",
    "# test_USF_group.add_nodes(wc)\n",
    "# wc.base.extras.set_many(extras=extras)\n"
   ]
  },
  {
   "cell_type": "code",
   "execution_count": 12,
   "metadata": {},
   "outputs": [
    {
     "name": "stderr",
     "output_type": "stream",
     "text": [
      "05/15/2025 04:07:08 PM <1288291> aiida.orm.nodes.process.workflow.workchain.WorkChainNode: [REPORT] [140519|USFWorkChain|validate_slipping_system]: FCC element crystal <space group #225, prototype Cu>. Usually, the gliding plane is 111.\n",
      "05/15/2025 04:07:08 PM <1288291> aiida.orm.nodes.process.workflow.workchain.WorkChainNode: [REPORT] [140519|USFWorkChain|validate_slipping_system]: Now we are working on 110 gliding plane.\n",
      "05/15/2025 04:07:08 PM <1288291> aiida.orm.nodes.process.workflow.workchain.WorkChainNode: [REPORT] [140519|USFWorkChain|validate_slipping_system]: Faulting is possible for 110 gliding plane.The stacking order is AB. \n",
      "05/15/2025 04:07:08 PM <1288291> aiida.orm.nodes.process.workflow.workchain.WorkChainNode: [REPORT] [140519|USFWorkChain|validate_slipping_system]: Slipping direction is manually specified: [0.5, 0.0]. \n",
      "05/15/2025 04:07:08 PM <1288291> aiida.workflow.dislocation: [WARNING] kpoints mesh is not compatible with supercell dimensions. Rouding the kpoints mesh.Might cause energy difference.\n",
      "05/15/2025 04:07:08 PM <1288291> aiida.orm.nodes.process.workflow.workchain.WorkChainNode: [REPORT] [140519|USFWorkChain|should_run_uc]: We firstly calculate the total energy of the unit cell. \n",
      "05/15/2025 04:07:08 PM <1288291> aiida.orm.nodes.process.workflow.workchain.WorkChainNode: [REPORT] [140519|USFWorkChain|run_scf]: launching PwCalculation<140524> for Cu unit cell geometry.\n",
      "05/15/2025 04:09:17 PM <1288291> aiida.orm.nodes.process.workflow.workchain.WorkChainNode: [REPORT] [140519|USFWorkChain|inspect_scf]: Totel energy of unit cell: -379.2127692941051 Ry\n",
      "05/15/2025 04:09:17 PM <1288291> aiida.orm.nodes.process.workflow.workchain.WorkChainNode: [REPORT] [140519|USFWorkChain|inspect_scf]: SCF calculation<140524> finished\n",
      "05/15/2025 04:09:17 PM <1288291> aiida.orm.nodes.process.workflow.workchain.WorkChainNode: [REPORT] [140519|USFWorkChain|run_USF]: launching PwCalculation<140530> for USF geometry.\n",
      "05/15/2025 04:12:59 PM <1288291> aiida.orm.nodes.process.workflow.workchain.WorkChainNode: [REPORT] [140519|USFWorkChain|inspect_USF]: SCF calculation<140530> for USF geometry finished\n",
      "05/15/2025 04:12:59 PM <1288291> aiida.orm.nodes.process.workflow.workchain.WorkChainNode: [REPORT] [140519|USFWorkChain|should_run_surface_energy]: We secondly calculate the surface energy of the faulted geometry. \n",
      "05/15/2025 04:13:00 PM <1288291> aiida.orm.nodes.process.workflow.workchain.WorkChainNode: [REPORT] [140519|USFWorkChain|run_surface_energy]: launching PwCalculation<140536> for surface energy calculation.\n",
      "05/15/2025 04:16:40 PM <1288291> aiida.orm.nodes.process.workflow.workchain.WorkChainNode: [REPORT] [140519|USFWorkChain|results]: Unstable faulted surface energy: 1.0799927396006053 J/m^2\n",
      "05/15/2025 04:16:40 PM <1288291> aiida.orm.nodes.process.workflow.workchain.WorkChainNode: [REPORT] [140519|USFWorkChain|results]: Surface energy: -5.390501560240884 J/m^2\n",
      "05/15/2025 04:16:40 PM <1288291> aiida.orm.nodes.process.workflow.workchain.WorkChainNode: [REPORT] [140519|USFWorkChain|results]: Rice ratio: -0.20035106706329267\n",
      "05/15/2025 04:16:40 PM <1288291> aiida.orm.nodes.process.workflow.workchain.WorkChainNode: [REPORT] [140519|USFWorkChain|results]: Results\n",
      "05/15/2025 04:16:40 PM <1288291> aiida.orm.nodes.process.workflow.workchain.WorkChainNode: [REPORT] [140519|USFWorkChain|on_terminated]: remote folders will not be cleaned\n"
     ]
    }
   ],
   "source": [
    "inputs['skip_uc'] = orm.Bool(False)\n",
    "inputs['do_surface_energy'] = orm.Bool(True)\n",
    "inputs['n_layers'] =orm.Int(8)\n",
    "inputs['slipping_system'] = orm.List(['A1', '110', [0.5, 0.0]])\n",
    "inputs['clean_workdir'] = orm.Bool(False)\n",
    "logging.getLogger('aiida.transport.SshTransport').setLevel(logging.ERROR)\n",
    "logging.getLogger('aiida.scheduler.slurm').setLevel(logging.ERROR)\n",
    "\n",
    "test_node = run.get_node(USFWorkChain, **inputs)\n",
    "test_USF_group.add_nodes(test_node.node)\n",
    "\n",
    "extras = {\n",
    "    'kpoints': kpoints.get_kpoints_mesh()[0],\n",
    "    'degauss': inputs['pw']['parameters']['SYSTEM']['degauss'],\n",
    "    'formula': inputs['structure'].get_formula(),\n",
    "    'structure_type': inputs['slipping_system'][0],\n",
    "    'gliding_plane': inputs['slipping_system'][1],\n",
    "    'slipping_direction': inputs['slipping_system'][2]\n",
    "}\n"
   ]
  },
  {
   "cell_type": "markdown",
   "metadata": {},
   "source": [
    "## TEST A2 -- Vanadium"
   ]
  },
  {
   "cell_type": "code",
   "execution_count": 4,
   "metadata": {},
   "outputs": [],
   "source": [
    "\n",
    "ase_atom = read('./structures/cif/V-227-A2.cif', format='cif')\n",
    "structure = orm.StructureData(ase=ase_atom)\n",
    "\n",
    "pseudo_family = orm.load_group('PseudoDojo/0.5/PBE/SR/standard/upf')\n",
    "\n",
    "pseudos = pseudo_family.get_pseudos(structure=structure)\n",
    "\n",
    "cutoff_wfc, cutoff_rho = pseudo_family.get_recommended_cutoffs(\n",
    "    structure=structure,\n",
    "    unit='Ry'\n",
    ")\n",
    "\n",
    "kpoints = orm.KpointsData()\n",
    "kpoints.set_kpoints_mesh([14, 14, 14])\n",
    "\n",
    "settings = orm.Dict({\n",
    "    # 'cmdline': ['-npool', '2']\n",
    "})\n",
    "\n",
    "usf_overrides_yaml = open('./usf.yaml')\n",
    "usf_overrides = yaml.safe_load(usf_overrides_yaml)\n",
    "\n",
    "inputs = {}\n",
    "\n",
    "inputs['metadata'] = usf_overrides.get('metadata', {})\n",
    "inputs['structure'] = structure\n",
    "inputs['kpoints'] = kpoints\n",
    "inputs['pw'] = usf_overrides.get('pw', {})\n",
    "inputs['pw']['pseudos'] = pseudos\n",
    "inputs['pw']['code'] = pw_code\n",
    "inputs['pw']['parameters']['CONTROL']['disk_io'] = 'nowf'\n",
    "inputs['pw']['parameters']['SYSTEM']['degauss'] = 0.01\n",
    "inputs['pw']['parameters']['ELECTRONS']['conv_thr'] = 1e-5\n",
    "\n"
   ]
  },
  {
   "cell_type": "markdown",
   "metadata": {},
   "source": [
    "### {100} surface"
   ]
  },
  {
   "cell_type": "code",
   "execution_count": 7,
   "metadata": {},
   "outputs": [
    {
     "name": "stderr",
     "output_type": "stream",
     "text": [
      "05/15/2025 12:22:02 PM <643100> aiida.orm.nodes.process.workflow.workchain.WorkChainNode: [REPORT] [140356|USFWorkChain|validate_slipping_system]: FCC element crystal <space group #227, prototype V>. I don't know the usual gliding plane. \n",
      "05/15/2025 12:22:02 PM <643100> aiida.orm.nodes.process.workflow.workchain.WorkChainNode: [REPORT] [140356|USFWorkChain|validate_slipping_system]: Now we are working on 100 gliding plane.\n",
      "05/15/2025 12:22:02 PM <643100> aiida.orm.nodes.process.workflow.workchain.WorkChainNode: [REPORT] [140356|USFWorkChain|validate_slipping_system]: Faulting is possible for 100 gliding plane.The stacking order is AB. \n",
      "05/15/2025 12:22:02 PM <643100> aiida.orm.nodes.process.workflow.workchain.WorkChainNode: [REPORT] [140356|USFWorkChain|validate_slipping_system]: Slipping direction is manually specified: [0.5, 0.5]. \n",
      "05/15/2025 12:22:02 PM <643100> aiida.workflow.dislocation: [WARNING] kpoints mesh is not compatible with supercell dimensions. Rouding the kpoints mesh.Might cause energy difference.\n",
      "05/15/2025 12:22:02 PM <643100> aiida.workflow.dislocation: [WARNING] kpoints mesh is not compatible with supercell dimensions. Rouding the kpoints mesh.Might cause energy difference.\n",
      "05/15/2025 12:22:03 PM <643100> aiida.orm.nodes.process.workflow.workchain.WorkChainNode: [REPORT] [140356|USFWorkChain|should_run_uc]: We firstly calculate the total energy of the unit cell. \n",
      "05/15/2025 12:22:03 PM <643100> aiida.orm.nodes.process.workflow.workchain.WorkChainNode: [REPORT] [140356|USFWorkChain|run_scf]: launching PwCalculation<140361> for V unit cell geometry.\n",
      "05/15/2025 12:23:46 PM <643100> aiida.orm.nodes.process.workflow.workchain.WorkChainNode: [REPORT] [140356|USFWorkChain|inspect_scf]: Totel energy of unit cell: -147.61723991553063 Ry\n",
      "05/15/2025 12:23:46 PM <643100> aiida.orm.nodes.process.workflow.workchain.WorkChainNode: [REPORT] [140356|USFWorkChain|inspect_scf]: SCF calculation<140361> finished\n",
      "05/15/2025 12:23:47 PM <643100> aiida.orm.nodes.process.workflow.workchain.WorkChainNode: [REPORT] [140356|USFWorkChain|run_USF]: launching PwCalculation<140367> for USF geometry.\n",
      "05/15/2025 12:28:10 PM <643100> aiida.orm.nodes.process.workflow.workchain.WorkChainNode: [REPORT] [140356|USFWorkChain|inspect_USF]: SCF calculation<140367> for USF geometry finished\n",
      "05/15/2025 12:28:10 PM <643100> aiida.orm.nodes.process.workflow.workchain.WorkChainNode: [REPORT] [140356|USFWorkChain|should_run_surface_energy]: We secondly calculate the surface energy of the faulted geometry. \n",
      "05/15/2025 12:28:10 PM <643100> aiida.orm.nodes.process.workflow.workchain.WorkChainNode: [REPORT] [140356|USFWorkChain|run_surface_energy]: launching PwCalculation<140373> for surface energy calculation.\n",
      "05/15/2025 12:32:33 PM <643100> aiida.orm.nodes.process.workflow.workchain.WorkChainNode: [REPORT] [140356|USFWorkChain|results]: Unstable faulted surface energy: 10.347445974283136 J/m^2\n",
      "05/15/2025 12:32:33 PM <643100> aiida.orm.nodes.process.workflow.workchain.WorkChainNode: [REPORT] [140356|USFWorkChain|results]: Surface energy: -10.564459182600386 J/m^2\n",
      "05/15/2025 12:32:33 PM <643100> aiida.orm.nodes.process.workflow.workchain.WorkChainNode: [REPORT] [140356|USFWorkChain|results]: Rice ratio: -0.9794581810042232\n",
      "05/15/2025 12:32:33 PM <643100> aiida.orm.nodes.process.workflow.workchain.WorkChainNode: [REPORT] [140356|USFWorkChain|results]: Results\n",
      "05/15/2025 12:32:33 PM <643100> aiida.orm.nodes.process.workflow.workchain.WorkChainNode: [REPORT] [140356|USFWorkChain|on_terminated]: remote folders will not be cleaned\n"
     ]
    }
   ],
   "source": [
    "inputs['skip_uc'] = orm.Bool(False)\n",
    "inputs['do_surface_energy'] = orm.Bool(True)\n",
    "inputs['n_layers'] =orm.Int(8)\n",
    "inputs['slipping_system'] = orm.List(['A2', '100', [1/2, 1/2]])\n",
    "\n",
    "logging.getLogger('aiida.transport.SshTransport') .setLevel(logging.ERROR)\n",
    "logging.getLogger('aiida.scheduler.slurm').setLevel(logging.ERROR)\n",
    "\n",
    "test_node = run.get_node(USFWorkChain, **inputs)\n",
    "test_USF_group.add_nodes(test_node.node)"
   ]
  },
  {
   "cell_type": "markdown",
   "metadata": {},
   "source": [
    "### {110} surface"
   ]
  },
  {
   "cell_type": "code",
   "execution_count": 5,
   "metadata": {},
   "outputs": [
    {
     "name": "stderr",
     "output_type": "stream",
     "text": [
      "05/15/2025 01:50:17 PM <864510> aiida.orm.nodes.process.workflow.workchain.WorkChainNode: [REPORT] [140388|USFWorkChain|validate_slipping_system]: FCC element crystal <space group #227, prototype V>. I don't know the usual gliding plane. \n",
      "05/15/2025 01:50:17 PM <864510> aiida.orm.nodes.process.workflow.workchain.WorkChainNode: [REPORT] [140388|USFWorkChain|validate_slipping_system]: Now we are working on 110 gliding plane.\n",
      "05/15/2025 01:50:17 PM <864510> aiida.orm.nodes.process.workflow.workchain.WorkChainNode: [REPORT] [140388|USFWorkChain|validate_slipping_system]: Faulting is possible for 110 gliding plane.The stacking order is AB. \n",
      "05/15/2025 01:50:17 PM <864510> aiida.orm.nodes.process.workflow.workchain.WorkChainNode: [REPORT] [140388|USFWorkChain|validate_slipping_system]: Slipping direction is manually specified: [0.5, 0.5]. \n",
      "05/15/2025 01:50:17 PM <864510> aiida.workflow.dislocation: [WARNING] kpoints mesh is not compatible with supercell dimensions. Rouding the kpoints mesh.Might cause energy difference.\n",
      "05/15/2025 01:50:17 PM <864510> aiida.workflow.dislocation: [WARNING] kpoints mesh is not compatible with supercell dimensions. Rouding the kpoints mesh.Might cause energy difference.\n",
      "05/15/2025 01:50:17 PM <864510> aiida.orm.nodes.process.workflow.workchain.WorkChainNode: [REPORT] [140388|USFWorkChain|should_run_uc]: We firstly calculate the total energy of the unit cell. \n",
      "05/15/2025 01:50:18 PM <864510> aiida.orm.nodes.process.workflow.workchain.WorkChainNode: [REPORT] [140388|USFWorkChain|run_scf]: launching PwCalculation<140393> for V unit cell geometry.\n",
      "05/15/2025 01:51:40 PM <864510> aiida.orm.nodes.process.workflow.workchain.WorkChainNode: [REPORT] [140388|USFWorkChain|inspect_scf]: Totel energy of unit cell: -147.61723991553063 Ry\n",
      "05/15/2025 01:51:40 PM <864510> aiida.orm.nodes.process.workflow.workchain.WorkChainNode: [REPORT] [140388|USFWorkChain|inspect_scf]: SCF calculation<140393> finished\n",
      "05/15/2025 01:51:40 PM <864510> aiida.orm.nodes.process.workflow.workchain.WorkChainNode: [REPORT] [140388|USFWorkChain|run_USF]: launching PwCalculation<140399> for USF geometry.\n",
      "05/15/2025 01:56:49 PM <864510> aiida.orm.nodes.process.workflow.workchain.WorkChainNode: [REPORT] [140388|USFWorkChain|inspect_USF]: SCF calculation<140399> for USF geometry finished\n",
      "05/15/2025 01:56:49 PM <864510> aiida.orm.nodes.process.workflow.workchain.WorkChainNode: [REPORT] [140388|USFWorkChain|should_run_surface_energy]: We secondly calculate the surface energy of the faulted geometry. \n",
      "05/15/2025 01:56:50 PM <864510> aiida.orm.nodes.process.workflow.workchain.WorkChainNode: [REPORT] [140388|USFWorkChain|run_surface_energy]: launching PwCalculation<140405> for surface energy calculation.\n",
      "05/15/2025 02:01:37 PM <864510> aiida.orm.nodes.process.workflow.workchain.WorkChainNode: [REPORT] [140388|USFWorkChain|results]: Unstable faulted surface energy: 2.0932907962530667 J/m^2\n",
      "05/15/2025 02:01:37 PM <864510> aiida.orm.nodes.process.workflow.workchain.WorkChainNode: [REPORT] [140388|USFWorkChain|results]: Surface energy: -10.10458618861544 J/m^2\n",
      "05/15/2025 02:01:37 PM <864510> aiida.orm.nodes.process.workflow.workchain.WorkChainNode: [REPORT] [140388|USFWorkChain|results]: Rice ratio: -0.20716244655436955\n",
      "05/15/2025 02:01:37 PM <864510> aiida.orm.nodes.process.workflow.workchain.WorkChainNode: [REPORT] [140388|USFWorkChain|results]: Results\n",
      "05/15/2025 02:01:37 PM <864510> aiida.orm.nodes.process.workflow.workchain.WorkChainNode: [REPORT] [140388|USFWorkChain|on_terminated]: remote folders will not be cleaned\n"
     ]
    }
   ],
   "source": [
    "inputs['skip_uc'] = orm.Bool(False)\n",
    "inputs['do_surface_energy'] = orm.Bool(True)\n",
    "inputs['n_layers'] =orm.Int(8)\n",
    "inputs['slipping_system'] = orm.List(['A2', '110', [0.5, 0.5]])\n",
    "\n",
    "logging.getLogger('aiida.transport.SshTransport') .setLevel(logging.ERROR)\n",
    "logging.getLogger('aiida.scheduler.slurm').setLevel(logging.ERROR)\n",
    "\n",
    "test_node = run.get_node(USFWorkChain, **inputs)\n",
    "test_USF_group.add_nodes(test_node.node)"
   ]
  },
  {
   "cell_type": "markdown",
   "metadata": {},
   "source": [
    "### {111} surface"
   ]
  },
  {
   "cell_type": "code",
   "execution_count": 6,
   "metadata": {},
   "outputs": [
    {
     "name": "stderr",
     "output_type": "stream",
     "text": [
      "05/15/2025 02:15:11 PM <864510> aiida.orm.nodes.process.workflow.workchain.WorkChainNode: [REPORT] [140418|USFWorkChain|validate_slipping_system]: FCC element crystal <space group #227, prototype V>. I don't know the usual gliding plane. \n",
      "05/15/2025 02:15:11 PM <864510> aiida.orm.nodes.process.workflow.workchain.WorkChainNode: [REPORT] [140418|USFWorkChain|validate_slipping_system]: Now we are working on 111 gliding plane.\n",
      "05/15/2025 02:15:11 PM <864510> aiida.orm.nodes.process.workflow.workchain.WorkChainNode: [REPORT] [140418|USFWorkChain|validate_slipping_system]: Faulting is possible for 111 gliding plane.The stacking order is ABC. \n",
      "05/15/2025 02:15:12 PM <864510> aiida.orm.nodes.process.workflow.workchain.WorkChainNode: [REPORT] [140418|USFWorkChain|validate_slipping_system]: Slipping direction is manually specified: [0.5, 0.5]. \n",
      "05/15/2025 02:15:12 PM <864510> aiida.workflow.dislocation: [WARNING] kpoints mesh is not compatible with supercell dimensions. Rouding the kpoints mesh.Might cause energy difference.\n",
      "05/15/2025 02:15:12 PM <864510> aiida.workflow.dislocation: [WARNING] kpoints mesh is not compatible with supercell dimensions. Rouding the kpoints mesh.Might cause energy difference.\n",
      "05/15/2025 02:15:12 PM <864510> aiida.orm.nodes.process.workflow.workchain.WorkChainNode: [REPORT] [140418|USFWorkChain|should_run_uc]: We firstly calculate the total energy of the unit cell. \n",
      "05/15/2025 02:15:12 PM <864510> aiida.orm.nodes.process.workflow.workchain.WorkChainNode: [REPORT] [140418|USFWorkChain|run_scf]: launching PwCalculation<140424> for V unit cell geometry.\n",
      "05/15/2025 02:18:26 PM <864510> aiida.orm.nodes.process.workflow.workchain.WorkChainNode: [REPORT] [140418|USFWorkChain|inspect_scf]: Totel energy of unit cell: -147.61723991553063 Ry\n",
      "05/15/2025 02:18:26 PM <864510> aiida.orm.nodes.process.workflow.workchain.WorkChainNode: [REPORT] [140418|USFWorkChain|inspect_scf]: SCF calculation<140424> finished\n",
      "05/15/2025 02:18:26 PM <864510> aiida.orm.nodes.process.workflow.workchain.WorkChainNode: [REPORT] [140418|USFWorkChain|run_USF]: launching PwCalculation<140430> for USF geometry.\n",
      "05/15/2025 02:29:57 PM <864510> aiida.orm.nodes.process.workflow.workchain.WorkChainNode: [REPORT] [140418|USFWorkChain|inspect_USF]: SCF calculation<140430> for USF geometry finished\n",
      "05/15/2025 02:29:57 PM <864510> aiida.orm.nodes.process.workflow.workchain.WorkChainNode: [REPORT] [140418|USFWorkChain|should_run_surface_energy]: We secondly calculate the surface energy of the faulted geometry. \n",
      "05/15/2025 02:29:57 PM <864510> aiida.orm.nodes.process.workflow.workchain.WorkChainNode: [REPORT] [140418|USFWorkChain|run_surface_energy]: launching PwCalculation<140436> for surface energy calculation.\n",
      "05/15/2025 02:50:04 PM <864510> aiida.orm.nodes.process.workflow.workchain.WorkChainNode: [REPORT] [140418|USFWorkChain|results]: Unstable faulted surface energy: 5.736409464646245 J/m^2\n",
      "05/15/2025 02:50:04 PM <864510> aiida.orm.nodes.process.workflow.workchain.WorkChainNode: [REPORT] [140418|USFWorkChain|results]: Surface energy: -23.973982650731358 J/m^2\n",
      "05/15/2025 02:50:04 PM <864510> aiida.orm.nodes.process.workflow.workchain.WorkChainNode: [REPORT] [140418|USFWorkChain|results]: Rice ratio: -0.23927645015089924\n",
      "05/15/2025 02:50:04 PM <864510> aiida.orm.nodes.process.workflow.workchain.WorkChainNode: [REPORT] [140418|USFWorkChain|results]: Results\n",
      "05/15/2025 02:50:04 PM <864510> aiida.orm.nodes.process.workflow.workchain.WorkChainNode: [REPORT] [140418|USFWorkChain|on_terminated]: remote folders will not be cleaned\n"
     ]
    }
   ],
   "source": [
    "inputs['skip_uc'] = orm.Bool(False)\n",
    "inputs['do_surface_energy'] = orm.Bool(True)\n",
    "inputs['n_layers'] =orm.Int(9)\n",
    "inputs['slipping_system'] = orm.List(['A2', '111', [1/2, 1/2]])\n",
    "\n",
    "logging.getLogger('aiida.transport.SshTransport') .setLevel(logging.ERROR)\n",
    "logging.getLogger('aiida.scheduler.slurm').setLevel(logging.ERROR)\n",
    "\n",
    "test_node = run.get_node(USFWorkChain, **inputs)\n",
    "test_USF_group.add_nodes(test_node.node)"
   ]
  },
  {
   "cell_type": "markdown",
   "metadata": {},
   "source": [
    "## TEST B1"
   ]
  },
  {
   "cell_type": "code",
   "execution_count": 3,
   "metadata": {},
   "outputs": [],
   "source": [
    "ase_atom = read('./structures/cif/mpds-S1605628-AsTe-225-B1.cif', format='cif')\n",
    "structure = orm.StructureData(ase=ase_atom)\n",
    "\n",
    "pseudo_family = orm.load_group('PseudoDojo/0.5/PBE/SR/standard/upf')\n",
    "\n",
    "pseudos = pseudo_family.get_pseudos(structure=structure)\n",
    "\n",
    "cutoff_wfc, cutoff_rho = pseudo_family.get_recommended_cutoffs(\n",
    "    structure=structure,\n",
    "    unit='Ry'\n",
    ")\n",
    "\n",
    "kpoints = orm.KpointsData()\n",
    "kpoints.set_kpoints_mesh([14, 14, 14])\n",
    "\n",
    "settings = orm.Dict({\n",
    "    # 'cmdline': ['-npool', '2']\n",
    "})\n",
    "\n",
    "usf_overrides_yaml = open('./usf.yaml')\n",
    "usf_overrides = yaml.safe_load(usf_overrides_yaml)\n",
    "\n",
    "inputs = {}\n",
    "\n",
    "\n",
    "inputs['metadata'] = usf_overrides.get('metadata', {})\n",
    "inputs['structure'] = structure\n",
    "inputs['kpoints'] = kpoints\n",
    "inputs['pw'] = usf_overrides.get('pw', {})\n",
    "inputs['pw']['pseudos'] = pseudos\n",
    "inputs['pw']['code'] = pw_code\n",
    "inputs['pw']['parameters']['CONTROL']['disk_io'] = 'nowf'\n",
    "inputs['pw']['parameters']['SYSTEM']['degauss'] = 0.02\n",
    "inputs['pw']['parameters']['ELECTRONS']['conv_thr'] = 1e-5\n"
   ]
  },
  {
   "cell_type": "markdown",
   "metadata": {},
   "source": [
    "### {100}"
   ]
  },
  {
   "cell_type": "code",
   "execution_count": 4,
   "metadata": {},
   "outputs": [
    {
     "name": "stderr",
     "output_type": "stream",
     "text": [
      "05/16/2025 08:53:31 AM <3275884> aiida.orm.nodes.process.workflow.workchain.WorkChainNode: [REPORT] [140611|USFWorkChain|validate_slipping_system]: FCC element crystal <space group #225, prototype NaCl>. I don't know the usual gliding plane. \n",
      "05/16/2025 08:53:31 AM <3275884> aiida.orm.nodes.process.workflow.workchain.WorkChainNode: [REPORT] [140611|USFWorkChain|validate_slipping_system]: Now we are working on 100 gliding plane.\n",
      "05/16/2025 08:53:31 AM <3275884> aiida.orm.nodes.process.workflow.workchain.WorkChainNode: [REPORT] [140611|USFWorkChain|validate_slipping_system]: Faulting is possible for 100 gliding plane.The stacking order is AB. \n",
      "05/16/2025 08:53:31 AM <3275884> aiida.orm.nodes.process.workflow.workchain.WorkChainNode: [REPORT] [140611|USFWorkChain|validate_slipping_system]: Slipping direction is manually specified: [0.5, 0.0]. \n",
      "05/16/2025 08:53:32 AM <3275884> aiida.workflow.dislocation: [WARNING] kpoints mesh is not compatible with supercell dimensions. Rouding the kpoints mesh.Might cause energy difference.\n",
      "05/16/2025 08:53:32 AM <3275884> aiida.workflow.dislocation: [WARNING] kpoints mesh is not compatible with supercell dimensions. Rouding the kpoints mesh.Might cause energy difference.\n",
      "05/16/2025 08:53:32 AM <3275884> aiida.orm.nodes.process.workflow.workchain.WorkChainNode: [REPORT] [140611|USFWorkChain|should_run_uc]: We firstly calculate the total energy of the unit cell. \n",
      "05/16/2025 08:53:32 AM <3275884> aiida.orm.nodes.process.workflow.workchain.WorkChainNode: [REPORT] [140611|USFWorkChain|run_scf]: launching PwCalculation<140616> for AsTe unit cell geometry.\n",
      "05/16/2025 08:56:22 AM <3275884> aiida.orm.nodes.process.workflow.workchain.WorkChainNode: [REPORT] [140611|USFWorkChain|inspect_scf]: Totel energy of unit cell: -422.14977258325604 Ry\n",
      "05/16/2025 08:56:22 AM <3275884> aiida.orm.nodes.process.workflow.workchain.WorkChainNode: [REPORT] [140611|USFWorkChain|inspect_scf]: SCF calculation<140616> finished\n",
      "05/16/2025 08:56:23 AM <3275884> aiida.orm.nodes.process.workflow.workchain.WorkChainNode: [REPORT] [140611|USFWorkChain|run_USF]: launching PwCalculation<140622> for USF geometry.\n",
      "05/16/2025 09:02:58 AM <3275884> aiida.orm.nodes.process.workflow.workchain.WorkChainNode: [REPORT] [140611|USFWorkChain|inspect_USF]: SCF calculation<140622> for USF geometry finished\n",
      "05/16/2025 09:02:58 AM <3275884> aiida.orm.nodes.process.workflow.workchain.WorkChainNode: [REPORT] [140611|USFWorkChain|should_run_surface_energy]: We secondly calculate the surface energy of the faulted geometry. \n",
      "05/16/2025 09:02:59 AM <3275884> aiida.orm.nodes.process.workflow.workchain.WorkChainNode: [REPORT] [140611|USFWorkChain|run_surface_energy]: launching PwCalculation<140628> for surface energy calculation.\n",
      "05/16/2025 09:08:26 AM <3275884> aiida.orm.nodes.process.workflow.workchain.WorkChainNode: [REPORT] [140611|USFWorkChain|results]: Unstable faulted surface energy: 0.3358923330999506 J/m^2\n",
      "05/16/2025 09:08:26 AM <3275884> aiida.orm.nodes.process.workflow.workchain.WorkChainNode: [REPORT] [140611|USFWorkChain|results]: Surface energy: -0.9423142306944956 J/m^2\n",
      "05/16/2025 09:08:26 AM <3275884> aiida.orm.nodes.process.workflow.workchain.WorkChainNode: [REPORT] [140611|USFWorkChain|results]: Rice ratio: -0.35645469648950795\n",
      "05/16/2025 09:08:26 AM <3275884> aiida.orm.nodes.process.workflow.workchain.WorkChainNode: [REPORT] [140611|USFWorkChain|results]: Results\n",
      "05/16/2025 09:08:27 AM <3275884> aiida.orm.nodes.process.workflow.workchain.WorkChainNode: [REPORT] [140611|USFWorkChain|on_terminated]: remote folders will not be cleaned\n"
     ]
    }
   ],
   "source": [
    "inputs['skip_uc'] = orm.Bool(False)\n",
    "inputs['do_surface_energy'] = orm.Bool(True)\n",
    "inputs['n_layers'] =orm.Int(8)\n",
    "inputs['slipping_system'] = orm.List(['B1', '100', [0.5, 0.0]])\n",
    "\n",
    "logging.getLogger('aiida.transport.SshTransport') .setLevel(logging.ERROR)\n",
    "logging.getLogger('aiida.scheduler.slurm').setLevel(logging.ERROR)\n",
    "\n",
    "test_node = run.get_node(USFWorkChain, **inputs)\n",
    "test_USF_group.add_nodes(test_node.node)"
   ]
  },
  {
   "cell_type": "markdown",
   "metadata": {},
   "source": [
    "### {110}"
   ]
  },
  {
   "cell_type": "code",
   "execution_count": 5,
   "metadata": {},
   "outputs": [
    {
     "name": "stderr",
     "output_type": "stream",
     "text": [
      "05/16/2025 09:40:47 AM <3275884> aiida.orm.nodes.process.workflow.workchain.WorkChainNode: [REPORT] [140641|USFWorkChain|validate_slipping_system]: FCC element crystal <space group #225, prototype NaCl>. I don't know the usual gliding plane. \n",
      "05/16/2025 09:40:47 AM <3275884> aiida.orm.nodes.process.workflow.workchain.WorkChainNode: [REPORT] [140641|USFWorkChain|validate_slipping_system]: Now we are working on 110 gliding plane.\n",
      "05/16/2025 09:40:47 AM <3275884> aiida.orm.nodes.process.workflow.workchain.WorkChainNode: [REPORT] [140641|USFWorkChain|validate_slipping_system]: Faulting is possible for 110 gliding plane.The stacking order is AB. \n",
      "05/16/2025 09:40:47 AM <3275884> aiida.orm.nodes.process.workflow.workchain.WorkChainNode: [REPORT] [140641|USFWorkChain|validate_slipping_system]: Slipping direction is manually specified: [0.0, 0.5]. \n",
      "05/16/2025 09:40:47 AM <3275884> aiida.workflow.dislocation: [WARNING] kpoints mesh is not compatible with supercell dimensions. Rouding the kpoints mesh.Might cause energy difference.\n",
      "05/16/2025 09:40:47 AM <3275884> aiida.workflow.dislocation: [WARNING] kpoints mesh is not compatible with supercell dimensions. Rouding the kpoints mesh.Might cause energy difference.\n",
      "05/16/2025 09:40:47 AM <3275884> aiida.orm.nodes.process.workflow.workchain.WorkChainNode: [REPORT] [140641|USFWorkChain|should_run_uc]: We firstly calculate the total energy of the unit cell. \n",
      "05/16/2025 09:40:47 AM <3275884> aiida.orm.nodes.process.workflow.workchain.WorkChainNode: [REPORT] [140641|USFWorkChain|run_scf]: launching PwCalculation<140646> for AsTe unit cell geometry.\n",
      "05/16/2025 09:43:15 AM <3275884> aiida.orm.nodes.process.workflow.workchain.WorkChainNode: [REPORT] [140641|USFWorkChain|inspect_scf]: Totel energy of unit cell: -422.14977258325604 Ry\n",
      "05/16/2025 09:43:15 AM <3275884> aiida.orm.nodes.process.workflow.workchain.WorkChainNode: [REPORT] [140641|USFWorkChain|inspect_scf]: SCF calculation<140646> finished\n",
      "05/16/2025 09:43:16 AM <3275884> aiida.orm.nodes.process.workflow.workchain.WorkChainNode: [REPORT] [140641|USFWorkChain|run_USF]: launching PwCalculation<140652> for USF geometry.\n",
      "05/16/2025 09:47:58 AM <3275884> aiida.orm.nodes.process.workflow.workchain.WorkChainNode: [REPORT] [140641|USFWorkChain|inspect_USF]: SCF calculation<140652> for USF geometry finished\n",
      "05/16/2025 09:47:58 AM <3275884> aiida.orm.nodes.process.workflow.workchain.WorkChainNode: [REPORT] [140641|USFWorkChain|should_run_surface_energy]: We secondly calculate the surface energy of the faulted geometry. \n",
      "05/16/2025 09:47:59 AM <3275884> aiida.orm.nodes.process.workflow.workchain.WorkChainNode: [REPORT] [140641|USFWorkChain|run_surface_energy]: launching PwCalculation<140658> for surface energy calculation.\n",
      "05/16/2025 09:53:05 AM <3275884> aiida.orm.nodes.process.workflow.workchain.WorkChainNode: [REPORT] [140641|USFWorkChain|results]: Unstable faulted surface energy: 0.16645225807965394 J/m^2\n",
      "05/16/2025 09:53:05 AM <3275884> aiida.orm.nodes.process.workflow.workchain.WorkChainNode: [REPORT] [140641|USFWorkChain|results]: Surface energy: -1.3689568507363998 J/m^2\n",
      "05/16/2025 09:53:05 AM <3275884> aiida.orm.nodes.process.workflow.workchain.WorkChainNode: [REPORT] [140641|USFWorkChain|results]: Rice ratio: -0.1215905804409501\n",
      "05/16/2025 09:53:05 AM <3275884> aiida.orm.nodes.process.workflow.workchain.WorkChainNode: [REPORT] [140641|USFWorkChain|results]: Results\n",
      "05/16/2025 09:53:05 AM <3275884> aiida.orm.nodes.process.workflow.workchain.WorkChainNode: [REPORT] [140641|USFWorkChain|on_terminated]: remote folders will not be cleaned\n"
     ]
    }
   ],
   "source": [
    "inputs['skip_uc'] = orm.Bool(False)\n",
    "inputs['do_surface_energy'] = orm.Bool(True)\n",
    "inputs['n_layers'] =orm.Int(8)\n",
    "inputs['slipping_system'] = orm.List(['B1', '110', [0.0, 0.5]])\n",
    "\n",
    "logging.getLogger('aiida.transport.SshTransport') .setLevel(logging.ERROR)\n",
    "logging.getLogger('aiida.scheduler.slurm').setLevel(logging.ERROR)\n",
    "\n",
    "test_node = run.get_node(USFWorkChain, **inputs)\n",
    "test_USF_group.add_nodes(test_node.node)"
   ]
  },
  {
   "cell_type": "markdown",
   "metadata": {},
   "source": [
    "# TEST HALF-HEUSLER"
   ]
  },
  {
   "cell_type": "code",
   "execution_count": 11,
   "metadata": {},
   "outputs": [],
   "source": [
    "\n",
    "import yaml\n",
    "\n",
    "ase_atom = read('./structures/cif/mpds-S1612207-NbCoSb-216-C1b.cif', format='cif')\n",
    "structure = orm.StructureData(ase=ase_atom)\n",
    "\n",
    "pseudo_family = orm.load_group('PseudoDojo/0.5/PBE/SR/standard/upf')\n",
    "\n",
    "pseudos = pseudo_family.get_pseudos(structure=structure)\n",
    "\n",
    "cutoff_wfc, cutoff_rho = pseudo_family.get_recommended_cutoffs(\n",
    "    structure=structure,\n",
    "    unit='Ry'\n",
    ")\n",
    "\n",
    "kpoints = orm.KpointsData()\n",
    "kpoints.set_kpoints_mesh([12, 12, 12])\n",
    "\n",
    "settings = orm.Dict({\n",
    "    # 'cmdline': ['-npool', '2']\n",
    "})\n",
    "\n",
    "usf_overrides_yaml = open('./usf.yaml')\n",
    "usf_overrides = yaml.safe_load(usf_overrides_yaml)\n",
    "\n",
    "inputs = {}\n",
    "\n",
    "inputs['metadata'] = usf_overrides.get('metadata', {})\n",
    "inputs['structure'] = structure\n",
    "inputs['kpoints'] = kpoints\n",
    "inputs['pw'] = usf_overrides.get('pw', {})\n",
    "inputs['pw']['pseudos'] = pseudos\n",
    "inputs['pw']['code'] = pw_code\n",
    "inputs['pw']['parameters']['CONTROL']['disk_io'] = 'minimal'\n",
    "inputs['pw']['parameters']['SYSTEM']['degauss'] = 0.01\n",
    "inputs['pw']['parameters']['ELECTRONS']['conv_thr'] = 1e-5\n",
    "\n"
   ]
  },
  {
   "cell_type": "markdown",
   "metadata": {},
   "source": [
    "## {100} surface"
   ]
  },
  {
   "cell_type": "code",
   "execution_count": 12,
   "metadata": {},
   "outputs": [
    {
     "name": "stderr",
     "output_type": "stream",
     "text": [
      "04/26/2025 12:11:00 PM <1225033> aiida.orm.nodes.process.workflow.workchain.WorkChainNode: [REPORT] [1137727|USFWorkChain|validate_slipping_system]: We are doing half-heusler-type structure, space group (216).\n",
      "04/26/2025 12:11:00 PM <1225033> aiida.orm.nodes.process.workflow.workchain.WorkChainNode: [REPORT] [1137727|USFWorkChain|validate_slipping_system]: AB stacking for {110} gliding plane. Faulting possible.slipping direction is along 1/2[-111].\n",
      "04/26/2025 12:11:00 PM <1225033> aiida.orm.nodes.process.workflow.workchain.WorkChainNode: [WARNING] You are skipping the unitcell calculation.Hopefully you know what you are doing!\n",
      "04/26/2025 12:11:00 PM <1225033> aiida.orm.nodes.process.workflow.workchain.WorkChainNode: [REPORT] [1137727|USFWorkChain|run_USF]: Multiplicity of the faulted geometry: uuid: 5bc1e3a8-792c-4a50-94e7-53ed01b2253d (unstored) value: 8.0\n",
      "04/26/2025 12:11:01 PM <1225033> aiida.orm.nodes.process.workflow.workchain.WorkChainNode: [REPORT] [1137727|USFWorkChain|run_USF]: launching PwCalculation<1137730> for USF geometry.\n",
      "04/26/2025 12:24:01 PM <1225033> aiida.parser.PwParser: [WARNING] key 'symmetries' is not present in raw output dictionary\n",
      "04/26/2025 12:24:01 PM <1225033> aiida.parser.PwParser: [WARNING] \"the scf_accuracy array was parsed but the scf_iterations was not.\n",
      "04/26/2025 12:24:01 PM <1225033> aiida.parser.PwParser: [ERROR] ERROR_OUTPUT_STDOUT_INCOMPLETE\n",
      "04/26/2025 12:24:01 PM <1225033> aiida.parser.PwParser: [ERROR] Both the stdout and XML output files could not be read or parsed.\n",
      "04/26/2025 12:24:01 PM <1225033> aiida.orm.nodes.process.calculation.calcjob.CalcJobNode: [WARNING] output parser returned exit code<305>: Both the stdout and XML output files could not be read or parsed.\n",
      "04/26/2025 12:24:02 PM <1225033> aiida.orm.nodes.process.workflow.workchain.WorkChainNode: [REPORT] [1137727|USFWorkChain|inspect_USF]: USF PwCalculation failed with exit status 305\n",
      "04/26/2025 12:24:02 PM <1225033> aiida.orm.nodes.process.workflow.workchain.WorkChainNode: [REPORT] [1137727|USFWorkChain|on_terminated]: remote folders will not be cleaned\n"
     ]
    }
   ],
   "source": [
    "inputs['skip_uc'] = orm.Bool(True)\n",
    "inputs['n_layers'] =orm.Int(8)\n",
    "inputs['slipping_system'] = orm.List(['C1b', '110', None])\n",
    "\n",
    "logging.getLogger('aiida.transport.SshTransport').setLevel(logging.ERROR)\n",
    "logging.getLogger('aiida.scheduler.slurm').setLevel(logging.ERROR)\n",
    "\n",
    "test_node = run.get_node(USFWorkChain, **inputs)"
   ]
  },
  {
   "cell_type": "code",
   "execution_count": null,
   "metadata": {},
   "outputs": [],
   "source": []
  }
 ],
 "metadata": {
  "kernelspec": {
   "display_name": "aiida-240",
   "language": "python",
   "name": "python3"
  },
  "language_info": {
   "codemirror_mode": {
    "name": "ipython",
    "version": 3
   },
   "file_extension": ".py",
   "mimetype": "text/x-python",
   "name": "python",
   "nbconvert_exporter": "python",
   "pygments_lexer": "ipython3",
   "version": "3.11.0"
  }
 },
 "nbformat": 4,
 "nbformat_minor": 2
}
