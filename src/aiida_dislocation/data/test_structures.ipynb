{
 "cells": [
  {
   "cell_type": "code",
   "execution_count": 33,
   "metadata": {},
   "outputs": [],
   "source": [
    "import importlib\n",
    "from aiida import orm, load_profile\n",
    "import aiida_dislocation.tools.structures\n",
    "importlib.reload(aiida_dislocation.tools.structures)\n",
    "from aiida_dislocation.tools.structures import get_unstable_faulted_structure_and_kpoints\n",
    "\n",
    "from ase.io import read\n",
    "\n",
    "\n",
    "load_profile()\n",
    "\n",
    "ase_atom = read('./structures/cif/mpds-S1612207-NbCoSb-216-C1b.cif', format='cif')\n",
    "structure = orm.StructureData(ase=ase_atom)\n",
    "\n",
    "\n",
    "kpoints = orm.KpointsData()\n",
    "kpoints.set_kpoints_mesh([4, 4, 4])\n",
    "n_layers = 4\n",
    "slipping_system = orm.List(['C1b', '110', None])\n"
   ]
  },
  {
   "cell_type": "code",
   "execution_count": 34,
   "metadata": {},
   "outputs": [],
   "source": [
    "pmg = structure.get_pymatgen()\n",
    "\n"
   ]
  },
  {
   "cell_type": "code",
   "execution_count": 35,
   "metadata": {},
   "outputs": [
    {
     "name": "stdout",
     "output_type": "stream",
     "text": [
      "{'a': 'Nb', 'c': 'Co', 'b': 'Sb'}\n",
      "[0. 0. 0.]\n",
      "[2.08522158 1.47447432 0.        ]\n",
      "[0.         2.94894864 0.        ]\n",
      "[2.08522158 2.94894864 2.08522158]\n",
      "[0.         4.42342295 2.08522158]\n",
      "[2.08522158 0.         2.08522158]\n",
      "[2.08522158 2.94894864 4.17044316]\n",
      "[0.         4.42342295 4.17044316]\n",
      "[2.08522158 0.         4.17044316]\n",
      "[0.         0.         6.25566473]\n",
      "[2.08522158 1.47447432 6.25566473]\n",
      "[0.         2.94894864 6.25566473]\n"
     ]
    }
   ],
   "source": [
    "ase_atom = read('./structures/cif/mpds-S1612207-NbCoSb-216-C1b.cif', format='cif')\n",
    "structure = orm.StructureData(ase=ase_atom)\n",
    "\n",
    "\n",
    "kpoints = orm.KpointsData()\n",
    "kpoints.set_kpoints_mesh([4, 4, 4])\n",
    "n_layers = 4\n",
    "slipping_system = orm.List(['C1b', '110', None])\n",
    "\n",
    "structure_sc, kpoints_sc, multiplicity, surface_area = get_unstable_faulted_structure_and_kpoints(\n",
    "    structure, kpoints, n_layers, slipping_system\n",
    "    )"
   ]
  }
 ],
 "metadata": {
  "kernelspec": {
   "display_name": "lucia",
   "language": "python",
   "name": "python3"
  },
  "language_info": {
   "codemirror_mode": {
    "name": "ipython",
    "version": 3
   },
   "file_extension": ".py",
   "mimetype": "text/x-python",
   "name": "python",
   "nbconvert_exporter": "python",
   "pygments_lexer": "ipython3",
   "version": "3.10.12"
  }
 },
 "nbformat": 4,
 "nbformat_minor": 2
}
